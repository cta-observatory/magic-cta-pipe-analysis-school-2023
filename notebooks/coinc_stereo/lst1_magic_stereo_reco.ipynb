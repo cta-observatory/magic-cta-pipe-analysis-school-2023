{
 "cells": [
  {
   "cell_type": "markdown",
   "id": "25d7152e",
   "metadata": {},
   "source": [
    "# MAGIC + LST combined analysys: stereo parameter reconstruction"
   ]
  },
  {
   "cell_type": "code",
   "execution_count": 1,
   "id": "5a4c9146",
   "metadata": {},
   "outputs": [
    {
     "name": "stdout",
     "output_type": "stream",
     "text": [
      "magicctapipe version: 0.3.0\n"
     ]
    }
   ],
   "source": [
    "import yaml\n",
    "import numpy as np\n",
    "import pandas as pd\n",
    "from matplotlib import pyplot as plt\n",
    "import magicctapipe\n",
    "from IPython.display import Image\n",
    "print(f'magicctapipe version: {magicctapipe.__version__}')"
   ]
  },
  {
   "cell_type": "code",
   "execution_count": 2,
   "id": "6c192978",
   "metadata": {},
   "outputs": [],
   "source": [
    "# --- display all columns --- \n",
    "pd.set_option('display.max_columns', None)\n",
    "\n",
    "# --- customize plt figure ---\n",
    "plt.rcParams['figure.figsize'] = (12, 9)\n",
    "plt.rcParams['font.size'] = 15\n",
    "plt.rcParams['grid.linestyle'] = ':'\n",
    "\n",
    "# --- get the default color cycle ---\n",
    "color_cycle = plt.rcParams['axes.prop_cycle'].by_key()['color']"
   ]
  },
  {
   "cell_type": "markdown",
   "id": "0c771bd6",
   "metadata": {},
   "source": [
    "The script for the stereo parameter reconstruction is <b>lst1_magic_stereo_reco.py<b>\n",
    "    \n",
    "This script processes DL1 events and reconstructs the geometrical stereo parameters with more than one telescope information. The quality cuts specified in the configuration file are applied to the events before the reconstruction. When the input is real data containing LST-1 and MAGIC events, it checks the angular distances of their pointing directions and excludes theevents taken with larger distances than the limit specified in the configuration file. This is in principle to avoid the reconstruction ofthe events taken in too-mispointing situations. For example, DL1 data may contain the coincident events taken with different wobble offsets between the systems. If the `--magic-only` argument is given, it reconstructs the stereoparameters using only MAGIC events.\n",
    "\n",
    "<img src=\"Stereo_tech.png\" alt=\"Alternative text\" />\n",
    "    \n",
    "<b>USAGE<b>:\n",
    "\n",
    "python lst1_magic_stereo_reco.py\n",
    "    \n",
    "--input-file dl1_LST-1_MAGIC.Run03265.0040.h5\n",
    "    \n",
    "(--output-dir dl1_stereo)\n",
    "    \n",
    "(--config-file config.yaml)\n",
    "    \n",
    "(--magic-only)"
   ]
  },
  {
   "cell_type": "markdown",
   "id": "290704b2",
   "metadata": {},
   "source": [
    "# 1) Input data"
   ]
  },
  {
   "cell_type": "markdown",
   "id": "48a1a915",
   "metadata": {},
   "source": [
    "if you work at the IT container:"
   ]
  },
  {
   "cell_type": "code",
   "execution_count": 3,
   "id": "8752bf09",
   "metadata": {},
   "outputs": [],
   "source": [
    "#school_data_dir='/fefs/aswg/workspace/2023_joint_analysis_school'"
   ]
  },
  {
   "cell_type": "markdown",
   "id": "a5b08732",
   "metadata": {},
   "source": [
    "if you work at pic"
   ]
  },
  {
   "cell_type": "code",
   "execution_count": 4,
   "id": "d03a2d78",
   "metadata": {},
   "outputs": [],
   "source": [
    "#school_data_dir='pnfs/pic.es/data/magic/Users/SWschool2023/data/2023_joint_analysis_school'"
   ]
  },
  {
   "cell_type": "markdown",
   "id": "b2efee7f",
   "metadata": {},
   "source": [
    "Locally:"
   ]
  },
  {
   "cell_type": "code",
   "execution_count": 5,
   "id": "baece643",
   "metadata": {},
   "outputs": [],
   "source": [
    "school_data_dir='/home/gpirola/Desktop/SoftwareSchool2023/2023_joint_analysis_school'"
   ]
  },
  {
   "cell_type": "code",
   "execution_count": 6,
   "id": "ac17bc4f",
   "metadata": {},
   "outputs": [],
   "source": [
    "date='20210213'"
   ]
  },
  {
   "cell_type": "code",
   "execution_count": 7,
   "id": "8459cf3c",
   "metadata": {},
   "outputs": [],
   "source": [
    "dl1_coincidence_dir=f'{school_data_dir}/stereo_reconstruction/input/DL1_coinc'"
   ]
  },
  {
   "cell_type": "code",
   "execution_count": 8,
   "id": "0ae068fe",
   "metadata": {},
   "outputs": [],
   "source": [
    "input_file = f'{dl1_coincidence_dir}/{date}/dl1_LST-1_MAGIC.Run03636.0039.h5'"
   ]
  },
  {
   "cell_type": "markdown",
   "id": "24f94a1e",
   "metadata": {},
   "source": [
    "# 2) Config file"
   ]
  },
  {
   "cell_type": "code",
   "execution_count": 9,
   "id": "1d3766a8",
   "metadata": {},
   "outputs": [],
   "source": [
    "config_file = './config_MAGIC_LST.yaml'\n",
    "\n",
    "with open(config_file, 'rb') as f:\n",
    "    config = yaml.safe_load(f)"
   ]
  },
  {
   "cell_type": "code",
   "execution_count": 10,
   "id": "057efd97",
   "metadata": {},
   "outputs": [
    {
     "data": {
      "text/plain": [
       "{'quality_cuts': '(intensity > 50) & (width > 0)', 'theta_uplim': '6 arcmin'}"
      ]
     },
     "execution_count": 10,
     "metadata": {},
     "output_type": "execute_result"
    }
   ],
   "source": [
    "config['stereo_reco']"
   ]
  },
  {
   "cell_type": "markdown",
   "id": "5600dfd5",
   "metadata": {},
   "source": [
    "    'theta_uplim':\n",
    "\n",
    "    it's an upper limit on the angular pointing difference between the telescopes (6 arcmin=0.1 deg)"
   ]
  },
  {
   "cell_type": "markdown",
   "id": "6c00e5be",
   "metadata": {},
   "source": [
    "# 3) Running the script"
   ]
  },
  {
   "cell_type": "code",
   "execution_count": 11,
   "id": "b62a1b7f",
   "metadata": {},
   "outputs": [],
   "source": [
    "output_dir = './stereo/output'\n",
    "!mkdir -p $output_dir"
   ]
  },
  {
   "cell_type": "markdown",
   "id": "38c53848",
   "metadata": {},
   "source": [
    "Execute script from terminal:"
   ]
  },
  {
   "cell_type": "code",
   "execution_count": null,
   "id": "60ad16e4",
   "metadata": {},
   "outputs": [
    {
     "name": "stdout",
     "output_type": "stream",
     "text": [
      "\n",
      "Input file: /home/gpirola/Desktop/SoftwareSchool2023/2023_joint_analysis_school/stereo_reconstruction/input/DL1_coinc/20210213/dl1_LST-1_MAGIC.Run03636.0039.h5\n",
      "\n",
      "Is simulation: False\n",
      "\n",
      "Telescope positions:\n",
      "    1: <Quantity  -8.09 77.13  0.78  m>\n",
      "    2: <Quantity   39.3  -62.55  -0.97  m>\n",
      "    3: <Quantity  -31.21 -14.57   0.2   m> \n",
      "\n",
      "MAGIC-only analysis: False\n",
      "\n",
      "Quality cuts: (intensity > 50) & (width > 0)\n",
      "\n",
      "In total 2254 stereo events are found:\n",
      "    M1_M2 (type 0): 374 events (16.6%)\n",
      "    LST1_M1 (type 1): 137 events (6.1%)\n",
      "    LST1_M2 (type 2): 327 events (14.5%)\n",
      "    LST1_M1_M2 (type 3): 1416 events (62.8%) \n",
      "\n",
      "Checking the angular distances of the LST-1 and MAGIC pointing directions...\n",
      "--> All the events were taken with smaller angular distances than the limit 6.0 arcmin.\n",
      "\n",
      "Reconstructing the stereo parameters...\n",
      "0 events\n",
      "100 events\n",
      "200 events\n",
      "300 events\n",
      "400 events\n",
      "500 events\n",
      "600 events\n",
      "700 events\n",
      "800 events\n",
      "900 events\n",
      "1000 events\n",
      "1100 events\n",
      "1200 events\n",
      "1300 events\n",
      "1400 events\n",
      "1500 events\n",
      "1600 events\n",
      "1700 events\n"
     ]
    }
   ],
   "source": [
    "!lst1_magic_stereo_reco\\\n",
    "--input-file $input_file\\\n",
    "--output-dir $output_dir\\\n",
    "--config-file $config_file"
   ]
  },
  {
   "cell_type": "markdown",
   "id": "93f2ec17",
   "metadata": {},
   "source": [
    "Import function on a notebook:"
   ]
  },
  {
   "cell_type": "code",
   "execution_count": null,
   "id": "d91c9a00",
   "metadata": {},
   "outputs": [],
   "source": [
    "from magicctapipe.scripts.lst1_magic import lst1_magic_stereo_reco"
   ]
  },
  {
   "cell_type": "code",
   "execution_count": null,
   "id": "e97a5376",
   "metadata": {},
   "outputs": [],
   "source": [
    "#lst1_magic_stereo_reco.stereo_reconstruction(input_file, output_dir, config)"
   ]
  },
  {
   "cell_type": "markdown",
   "id": "7f263946",
   "metadata": {},
   "source": [
    "# 4) Check the output data"
   ]
  },
  {
   "cell_type": "code",
   "execution_count": null,
   "id": "b088852c",
   "metadata": {},
   "outputs": [],
   "source": [
    "output_file=f'{output_dir}/dl1_stereo_LST-1_MAGIC.Run03636.0039.h5'"
   ]
  },
  {
   "cell_type": "code",
   "execution_count": null,
   "id": "806483c7",
   "metadata": {},
   "outputs": [],
   "source": [
    "data = pd.read_hdf(output_file, key='events/parameters')\n",
    "data.set_index(['obs_id', 'event_id', 'tel_id'], inplace=True)\n",
    "data.sort_index(inplace=True)"
   ]
  },
  {
   "cell_type": "code",
   "execution_count": null,
   "id": "9c1846d3",
   "metadata": {},
   "outputs": [],
   "source": [
    "data"
   ]
  },
  {
   "cell_type": "markdown",
   "id": "ee7c29b6",
   "metadata": {},
   "source": [
    "# 5) Merge the subrub files"
   ]
  },
  {
   "cell_type": "markdown",
   "id": "a61b45ab",
   "metadata": {},
   "source": [
    "The script for merging hdf file is <b>merge_hdf_files.py<b>\n",
    "\n",
    "\n",
    "This script merges the HDF files produced by the LST-1 + MAGIC combined analysis pipeline. It parses information from the file names, so they should follow the convention, i.e., *Run*.*.h5 or *run*.h5. If no output directory is specified with the `--output-dir` argument, it saves merged files in the `merged` directory which will be created\n",
    "under the input directory. If the `--run-wise` argument is given, it merges input files run-wise.\n",
    "It is applicable only to real data since MC data are already produced run-wise. The `--subrun-wise` argument can be also used to merge MAGIC DL1 real data subrun-wise (for example, dl1_M1.Run05093711.001.h5 + dl1_M2.Run05093711.001.h5 -> dl1_MAGIC.Run05093711.001.h5).\n",
    "\n",
    "<b>Usage<b>:\n",
    "python merge_hdf_files.py\n",
    "\n",
    "--input-dir dl1\n",
    "\n",
    "(--output-dir dl1_merged)\n",
    "\n",
    "(--run-wise)\n",
    "\n",
    "(--subrun-wise)"
   ]
  },
  {
   "cell_type": "code",
   "execution_count": null,
   "id": "3ca1bb04",
   "metadata": {},
   "outputs": [],
   "source": [
    "stereo_subrun_dir=f'{school_data_dir}/stereo_reconstruction/input/DL1_stereo/{date}'\n",
    "stereo_merged_dir=f'{output_dir}/merged'\n",
    "!mkdir -p $stereo_merged_dir"
   ]
  },
  {
   "cell_type": "markdown",
   "id": "fb0a7b6d",
   "metadata": {},
   "source": [
    "# 5.1) Running the script"
   ]
  },
  {
   "cell_type": "markdown",
   "id": "9330bcc3",
   "metadata": {},
   "source": [
    "Execute script from terminal:"
   ]
  },
  {
   "cell_type": "code",
   "execution_count": null,
   "id": "df82a1d0",
   "metadata": {},
   "outputs": [],
   "source": [
    "!merge_hdf_files\\\n",
    "--input-dir $stereo_subrun_dir\\\n",
    "--output-dir $stereo_merged_dir\\\n",
    "--run-wise"
   ]
  },
  {
   "cell_type": "markdown",
   "id": "676be460",
   "metadata": {},
   "source": [
    "Import function on a notebook:"
   ]
  },
  {
   "cell_type": "code",
   "execution_count": null,
   "id": "9b9260bd",
   "metadata": {},
   "outputs": [],
   "source": [
    "from magicctapipe.scripts.lst1_magic import merge_hdf_files"
   ]
  },
  {
   "cell_type": "code",
   "execution_count": null,
   "id": "9327de93",
   "metadata": {},
   "outputs": [],
   "source": [
    "#merge_hdf_files(input_dir, output_dir)\n",
    "#without specifying the run_wise flag to be true, it will merge all the subruns in the direcotry togheter"
   ]
  },
  {
   "cell_type": "markdown",
   "id": "66dc6d87",
   "metadata": {},
   "source": [
    "Check the content of the merged file:"
   ]
  },
  {
   "cell_type": "code",
   "execution_count": null,
   "id": "2dd3814a",
   "metadata": {},
   "outputs": [],
   "source": [
    "stereo_merged_file=f'{stereo_merged_dir}/dl1_stereo_LST-1_MAGIC.Run03636.h5'"
   ]
  },
  {
   "cell_type": "code",
   "execution_count": null,
   "id": "b53c9f60",
   "metadata": {},
   "outputs": [],
   "source": [
    "data_merged = pd.read_hdf(stereo_merged_file, key='events/parameters')\n",
    "data_merged.set_index(['obs_id', 'event_id', 'tel_id'], inplace=True)\n",
    "data_merged.sort_index(inplace=True)"
   ]
  },
  {
   "cell_type": "code",
   "execution_count": null,
   "id": "6958f1c4",
   "metadata": {},
   "outputs": [],
   "source": [
    "data_merged"
   ]
  },
  {
   "cell_type": "markdown",
   "id": "9bd132ae",
   "metadata": {},
   "source": [
    "# 5.2) Check the stereo parameter distributions"
   ]
  },
  {
   "cell_type": "code",
   "execution_count": null,
   "id": "c2b1fdff",
   "metadata": {},
   "outputs": [],
   "source": [
    "plt.figure(figsize=(16,7))\n",
    "\n",
    "m2km = 1e-3\n",
    "plt.subplot(121)\n",
    "df = data_merged.query(f'multiplicity == 3').groupby(['obs_id', 'event_id']).mean()\n",
    "\n",
    "plt.hist(\n",
    "    df['h_max'].to_numpy() * m2km, bins=np.linspace(0, 20, 41), label='LST1+M1+M2'\n",
    ")\n",
    "plt.title(f'H$_{{max}}$ distribution')\n",
    "plt.xlabel(f'H$_{{max}}$ [km]')\n",
    "plt.ylabel('Number of events')\n",
    "plt.yscale('log')\n",
    "plt.legend()\n",
    "plt.grid()\n",
    "\n",
    "plt.subplot(122)\n",
    "plt.hist(\n",
    "    df['impact'].to_numpy(), bins=np.linspace(0, 2000, 100), label='LST1+M1+M2'\n",
    ")\n",
    "plt.title(f'Average Impact parameter distribution')\n",
    "plt.xlabel('Impact parameter [m]')\n",
    "plt.ylabel('Number of events')\n",
    "plt.xlim(0,1500)  \n",
    "plt.yscale('log')\n",
    "plt.legend()\n",
    "plt.grid()"
   ]
  },
  {
   "cell_type": "markdown",
   "id": "68b77340",
   "metadata": {},
   "source": [
    "# 6) Check the core position distribution"
   ]
  },
  {
   "cell_type": "markdown",
   "id": "aca3bfee",
   "metadata": {},
   "source": [
    "Extraction of the geometrical position of the telescopes in the simtel array system"
   ]
  },
  {
   "cell_type": "code",
   "execution_count": null,
   "id": "72bf74bf",
   "metadata": {},
   "outputs": [],
   "source": [
    "geo_info = pd.read_hdf(stereo_merged_file, key='configuration/instrument/subarray/layout')\n",
    "geo_info"
   ]
  },
  {
   "cell_type": "code",
   "execution_count": null,
   "id": "1eb45b0f",
   "metadata": {},
   "outputs": [],
   "source": [
    "LST1_coords=[geo_info[geo_info.tel_id==1].pos_x,geo_info[geo_info.tel_id==1].pos_y]\n",
    "MAGIC1_coords=[geo_info[geo_info.tel_id==2].pos_x,geo_info[geo_info.tel_id==2].pos_y]\n",
    "MAGIC2_coords=[geo_info[geo_info.tel_id==3].pos_x,geo_info[geo_info.tel_id==3].pos_y]"
   ]
  },
  {
   "cell_type": "code",
   "execution_count": null,
   "id": "536c5068",
   "metadata": {
    "pycharm": {
     "name": "#%%\n"
    }
   },
   "outputs": [],
   "source": [
    "combo_names=['M1+M2','LST1+M1','LST1+M2','LST1+M1+M2']\n",
    "bins=[100,100]\n",
    "plt.figure(figsize=(16,14))\n",
    "plot_range=[-150,150]\n",
    "for i,combo_name in enumerate(combo_names):\n",
    "    a=221+i\n",
    "    plt.subplot(a)\n",
    "    plt.title(f'{combo_name}')\n",
    "\n",
    "    ax = plt.gca()\n",
    "    df = data_merged.query(f'combo_type=={i}').groupby(['obs_id', 'event_id']).mean()\n",
    "\n",
    "    plt.hist2d(\n",
    "        df['core_x'].to_numpy(),\n",
    "        df['core_y'].to_numpy(),\n",
    "        range=[[plot_range[0],plot_range[1]], [plot_range[0],plot_range[1]]],\n",
    "        bins=bins,norm='log')\n",
    "\n",
    "\n",
    "\n",
    "    circle_1=plt.Circle([a for a in MAGIC1_coords],17,color='r', fill=False,label='M1')\n",
    "    circle_2=plt.Circle([a for a in MAGIC2_coords],17,color='r', fill=False,label='M2')\n",
    "    circle_L=plt.Circle([a for a in LST1_coords],23,color='black', fill=False,label='LST-1')\n",
    "    ax.add_patch(circle_1)\n",
    "    ax.add_patch(circle_2)\n",
    "    ax.add_patch(circle_L)\n",
    "    plt.text(MAGIC1_coords[0],MAGIC1_coords[1],s='M1',color='r')\n",
    "    plt.text(MAGIC2_coords[0],MAGIC2_coords[1],s='M2',color='r')\n",
    "    plt.text(LST1_coords[0],LST1_coords[1],s='LST-1',color='black')\n",
    "\n",
    "    plt.xlabel('Core X (S->N) [m]',fontsize=14)\n",
    "    plt.ylabel('Core Y (E->W) [m]',fontsize=14)\n",
    "    plt.xlim(plot_range[0],plot_range[1])\n",
    "    plt.ylim(plot_range[0],plot_range[1])\n",
    "    plt.colorbar()\n",
    "    plt.grid()"
   ]
  }
 ],
 "metadata": {
  "kernelspec": {
   "display_name": "Python 3 (ipykernel)",
   "language": "python",
   "name": "python3"
  },
  "language_info": {
   "codemirror_mode": {
    "name": "ipython",
    "version": 3
   },
   "file_extension": ".py",
   "mimetype": "text/x-python",
   "name": "python",
   "nbconvert_exporter": "python",
   "pygments_lexer": "ipython3",
   "version": "3.8.16"
  }
 },
 "nbformat": 4,
 "nbformat_minor": 5
}

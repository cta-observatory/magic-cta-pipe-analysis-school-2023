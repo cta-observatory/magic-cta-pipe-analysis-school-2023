{
 "cells": [
  {
   "cell_type": "markdown",
   "id": "cc9bfb3b",
   "metadata": {},
   "source": [
    "# MAGIC + LST combined analysys: event coincidence search"
   ]
  },
  {
   "cell_type": "code",
   "execution_count": 1,
   "id": "ba04d859",
   "metadata": {},
   "outputs": [
    {
     "name": "stdout",
     "output_type": "stream",
     "text": [
      "magicctapipe version: 0.3.0\n"
     ]
    }
   ],
   "source": [
    "import yaml\n",
    "import numpy as np\n",
    "import pandas as pd\n",
    "import glob\n",
    "from matplotlib import pyplot as plt\n",
    "import magicctapipe\n",
    "print(f'magicctapipe version: {magicctapipe.__version__}')"
   ]
  },
  {
   "cell_type": "code",
   "execution_count": 2,
   "id": "096d649a",
   "metadata": {},
   "outputs": [],
   "source": [
    "# --- display all columns --- \n",
    "pd.set_option('display.max_columns', None)\n",
    "\n",
    "# --- customize plt figure ---\n",
    "plt.rcParams['figure.figsize'] = (12, 9)\n",
    "plt.rcParams['font.size'] = 15\n",
    "plt.rcParams['grid.linestyle'] = ':'\n",
    "\n",
    "# --- get the default color cycle ---\n",
    "color_cycle = plt.rcParams['axes.prop_cycle'].by_key()['color']"
   ]
  },
  {
   "cell_type": "markdown",
   "id": "6a7b7f18",
   "metadata": {},
   "source": [
    "The script for the coincidence search is <b>lst1_magic_event_coincidence.py<b>\n",
    "\n",
    "This script searches for coincident events from LST-1 and MAGIC joint observation data offline using their timestamps. It applies the coincidence window to LST-1 events, and checks the coincidence within the time offset region specified in the configuration file. Since the optimal time offset changes depending on the telescope distance along the pointing direction, it is recommended to input one subrun file for LST-1 data, whose observation time is usually around 10 seconds so the change of the distance is negligible. The MAGIC standard stereo analysis discards the events when one of the telescope images cannot survive the cleaning or fail to compute the DL1 parameters. However, it's possible to perform the stereo analysis if LST-1 sees these events. Thus, it checks the coincidence for each telescope combination (i.e., LST1 + M1 and LST1 + M2) and keeps the MAGIC events even if they do not have their MAGIC-stereo counterparts. The MAGIC-stereo events, observed during the LST-1 observation time period but not coincident with any LST-1 events, are also saved in the output file, but they are not yet used for the high level analysis. Unless there is any particular reason, please use the default half width 300 ns for the coincidence window, which is optimized to reduce the accidental coincidence rate as much as possible by keeping the number of actual coincident events. Please note that for the data taken before 12th June 2021, a coincidence peak should be found around the time offset of -3.1 us, which can be explained by the trigger time delays of both systems. For the data taken after that date, however, there is an additional global offset appeared and then the peak is shifted to the time offset of -6.5 us. Thus, it would be needed to tune the offset scan region depending on the date when data were taken. The reason of the shift is under investigation.\n",
    "    \n",
    "\n",
    "<b>USAGE<b>:\n",
    "\n",
    "python lst1_magic_event_coincidence.py\n",
    "\n",
    "--input-file-lst dl1_LST-1.Run03265.0040.h5\n",
    "\n",
    "--input-dir-magic dl1/MAGIC\n",
    "\n",
    "(--output-dir dl1_coincidence)\n",
    "\n",
    "(--config-file config.yaml)\n",
    "\n",
    "\n",
    "<b>N.B.<b>:\n"
   ]
  },
  {
   "cell_type": "markdown",
   "id": "27d0da85",
   "metadata": {},
   "source": [
    "# 1) Input data"
   ]
  },
  {
   "cell_type": "markdown",
   "id": "bc78b91d",
   "metadata": {},
   "source": [
    "FYI: for the date LST (and its directory system) uses the date of the end of the observation, whereas MAGIC uses that of the start of the observation."
   ]
  },
  {
   "cell_type": "code",
   "execution_count": 3,
   "id": "6438c552",
   "metadata": {},
   "outputs": [],
   "source": [
    "school_data_dir='/fefs/aswg/workspace/2023_joint_analysis_school'"
   ]
  },
  {
   "cell_type": "code",
   "execution_count": 4,
   "id": "55b82522",
   "metadata": {},
   "outputs": [],
   "source": [
    "date_lst='20210213'\n",
    "date_magic='2021_02_14'"
   ]
  },
  {
   "cell_type": "code",
   "execution_count": 5,
   "id": "6ce8d499",
   "metadata": {},
   "outputs": [],
   "source": [
    "dl1_dir=f'{school_data_dir}/event_coincidence/input/DL1'\n",
    "lst_dl1_dir=dl1_dir+f'/LST1/{date_lst}'\n",
    "magic_dl1_dir=dl1_dir+f'/MAGIC/{date_magic}'"
   ]
  },
  {
   "cell_type": "code",
   "execution_count": 6,
   "id": "f400d604",
   "metadata": {},
   "outputs": [],
   "source": [
    "#input_file_lst = f'{lst_dl1_dir}/dl1_LST-1.Run03631.0039.h5'\n",
    "input_file_lst = f'{lst_dl1_dir}/dl1_LST-1.Run03636.0039.h5'"
   ]
  },
  {
   "cell_type": "markdown",
   "id": "3fcb1704",
   "metadata": {},
   "source": [
    "Check LST1 dl1 data"
   ]
  },
  {
   "cell_type": "code",
   "execution_count": 7,
   "id": "f09572ab",
   "metadata": {},
   "outputs": [],
   "source": [
    "from lstchain.io.io import dl1_params_lstcam_key\n",
    "from lstchain.reco.utils import add_delta_t_key,get_effective_time\n",
    "from ctapipe.io import read_table"
   ]
  },
  {
   "cell_type": "code",
   "execution_count": 8,
   "id": "94f2bf2b",
   "metadata": {},
   "outputs": [
    {
     "data": {
      "text/html": [
       "<div><i>Table length=53000</i>\n",
       "<table id=\"table139798484285376\" class=\"table-striped table-bordered table-condensed\">\n",
       "<thead><tr><th>obs_id</th><th>event_id</th><th>intensity</th><th>log_intensity</th><th>x</th><th>y</th><th>r</th><th>phi</th><th>length</th><th>length_uncertainty</th><th>width</th><th>width_uncertainty</th><th>psi</th><th>skewness</th><th>kurtosis</th><th>time_gradient</th><th>intercept</th><th>leakage_intensity_width_1</th><th>leakage_intensity_width_2</th><th>leakage_pixels_width_1</th><th>leakage_pixels_width_2</th><th>n_pixels</th><th>concentration_cog</th><th>concentration_core</th><th>concentration_pixel</th><th>n_islands</th><th>alt_tel</th><th>az_tel</th><th>calibration_id</th><th>dragon_time</th><th>ucts_time</th><th>tib_time</th><th>ucts_jump</th><th>mc_type</th><th>wl</th><th>tel_id</th><th>tel_pos_x</th><th>tel_pos_y</th><th>tel_pos_z</th><th>trigger_type</th><th>ucts_trigger_type</th><th>trigger_time</th><th>event_type</th></tr></thead>\n",
       "<thead><tr><th></th><th></th><th></th><th></th><th>m</th><th>m</th><th>m</th><th>rad</th><th>deg</th><th>deg</th><th>deg</th><th>deg</th><th>rad</th><th></th><th></th><th></th><th></th><th></th><th></th><th></th><th></th><th></th><th></th><th></th><th></th><th></th><th>rad</th><th>rad</th><th></th><th></th><th></th><th></th><th></th><th></th><th></th><th></th><th>m</th><th>m</th><th>m</th><th></th><th></th><th></th><th></th></tr></thead>\n",
       "<thead><tr><th>int64</th><th>int64</th><th>float64</th><th>float64</th><th>float64</th><th>float64</th><th>float64</th><th>float64</th><th>float64</th><th>float64</th><th>float64</th><th>float64</th><th>float64</th><th>float64</th><th>float64</th><th>float64</th><th>float64</th><th>float32</th><th>float32</th><th>float64</th><th>float64</th><th>int64</th><th>float64</th><th>float64</th><th>float64</th><th>int64</th><th>float64</th><th>float64</th><th>int64</th><th>float64</th><th>int64</th><th>int64</th><th>bool</th><th>int64</th><th>float64</th><th>int64</th><th>float64</th><th>float64</th><th>float64</th><th>uint8</th><th>uint8</th><th>float64</th><th>int64</th></tr></thead>\n",
       "<tr><td>3636</td><td>2067001</td><td>203.30835914611816</td><td>2.308155235285357</td><td>-0.9797356306609176</td><td>0.059294361761496515</td><td>0.981528261092491</td><td>3.0811456056011064</td><td>0.17518081187994444</td><td>0.005537182698284188</td><td>0.07903151957140998</td><td>0.0029342396201543874</td><td>-0.015303092519049735</td><td>0.21925482384007544</td><td>1.8124883820724962</td><td>1.252771667603426</td><td>19.395287030997228</td><td>0.08449865</td><td>0.26922402</td><td>0.001078167115902965</td><td>0.0026954177897574125</td><td>19</td><td>0.2032968605666236</td><td>0.23680629413804863</td><td>0.08563318645664028</td><td>1</td><td>0.9908932518453828</td><td>4.662985675698991</td><td>0</td><td>1613259416.8394885</td><td>0</td><td>0</td><td>False</td><td>-9999</td><td>0.45114255792793195</td><td>1</td><td>50.0</td><td>50.0</td><td>16.0</td><td>1</td><td>1</td><td>1613259416.8394885</td><td>32</td></tr>\n",
       "<tr><td>3636</td><td>2067002</td><td>491.8836064338684</td><td>2.6918623485728492</td><td>0.2557725194602321</td><td>0.22048274015382746</td><td>0.33768657127101603</td><td>0.7114348771038935</td><td>0.35146080076931024</td><td>0.010117484695825836</td><td>0.21892742642009738</td><td>0.005747390111104336</td><td>0.2014118647638779</td><td>-0.09041293015317466</td><td>2.6304323297435523</td><td>34.82109780442585</td><td>14.80559123704517</td><td>0.0</td><td>0.0</td><td>0.0</td><td>0.0</td><td>48</td><td>0.033537715807910984</td><td>0.29748594744645673</td><td>0.06091527736732531</td><td>3</td><td>0.9908932456035989</td><td>4.66298567986018</td><td>0</td><td>1613259416.8396316</td><td>0</td><td>0</td><td>False</td><td>-9999</td><td>0.62290709501853</td><td>1</td><td>50.0</td><td>50.0</td><td>16.0</td><td>1</td><td>1</td><td>1613259416.8396316</td><td>32</td></tr>\n",
       "<tr><td>...</td><td>...</td><td>...</td><td>...</td><td>...</td><td>...</td><td>...</td><td>...</td><td>...</td><td>...</td><td>...</td><td>...</td><td>...</td><td>...</td><td>...</td><td>...</td><td>...</td><td>...</td><td>...</td><td>...</td><td>...</td><td>...</td><td>...</td><td>...</td><td>...</td><td>...</td><td>...</td><td>...</td><td>...</td><td>...</td><td>...</td><td>...</td><td>...</td><td>...</td><td>...</td><td>...</td><td>...</td><td>...</td><td>...</td><td>...</td><td>...</td><td>...</td><td>...</td></tr>\n",
       "<tr><td>3636</td><td>2119999</td><td>108.02978372573853</td><td>2.033543506639755</td><td>0.7171733719093675</td><td>0.3756310954862062</td><td>0.8095902452920362</td><td>0.48247921488864526</td><td>0.2851255491662784</td><td>0.016705982230751225</td><td>0.056943644711571505</td><td>0.004868049096731397</td><td>-0.16722375604022577</td><td>1.1536992522338159</td><td>2.483433605647556</td><td>-2.5089067785263097</td><td>18.84404404038615</td><td>0.0</td><td>0.13993627</td><td>0.0</td><td>0.001078167115902965</td><td>8</td><td>0.1450365069828093</td><td>0.6063661123481354</td><td>0.41128730148678283</td><td>2</td><td>0.9900137592055813</td><td>4.6635316834022325</td><td>0</td><td>1613259430.8415422</td><td>0</td><td>0</td><td>False</td><td>-9999</td><td>0.19971428333264982</td><td>1</td><td>50.0</td><td>50.0</td><td>16.0</td><td>1</td><td>1</td><td>1613259430.8415422</td><td>32</td></tr>\n",
       "<tr><td>3636</td><td>2120000</td><td>85.46019124984741</td><td>1.9317638603821894</td><td>0.4473936739508037</td><td>-0.7906316570944479</td><td>0.90843795423304</td><td>-1.05585157044516</td><td>0.07335652853648726</td><td>0.005876983668713766</td><td>0.042725082890814024</td><td>0.0027700399004860596</td><td>1.2483051636514748</td><td>-0.8012484558210259</td><td>3.194091858876041</td><td>-0.037933798252412575</td><td>18.838747813160648</td><td>0.0</td><td>0.0</td><td>0.0</td><td>0.0</td><td>6</td><td>0.8829620656244861</td><td>0.2672825756732767</td><td>0.29844558297260165</td><td>1</td><td>0.9900137343576642</td><td>4.663531696310241</td><td>0</td><td>1613259430.841912</td><td>0</td><td>0</td><td>False</td><td>-9999</td><td>0.5824305449454676</td><td>1</td><td>50.0</td><td>50.0</td><td>16.0</td><td>1</td><td>1</td><td>1613259430.841912</td><td>32</td></tr>\n",
       "</table></div>"
      ],
      "text/plain": [
       "<Table length=53000>\n",
       "obs_id event_id     intensity        log_intensity    ... ucts_trigger_type    trigger_time    event_type\n",
       "                                                      ...                                                \n",
       "int64   int64        float64            float64       ...       uint8            float64         int64   \n",
       "------ -------- ------------------ ------------------ ... ----------------- ------------------ ----------\n",
       "  3636  2067001 203.30835914611816  2.308155235285357 ...                 1 1613259416.8394885         32\n",
       "  3636  2067002  491.8836064338684 2.6918623485728492 ...                 1 1613259416.8396316         32\n",
       "   ...      ...                ...                ... ...               ...                ...        ...\n",
       "  3636  2119999 108.02978372573853  2.033543506639755 ...                 1 1613259430.8415422         32\n",
       "  3636  2120000  85.46019124984741 1.9317638603821894 ...                 1  1613259430.841912         32"
      ]
     },
     "execution_count": 8,
     "metadata": {},
     "output_type": "execute_result"
    }
   ],
   "source": [
    "dl1_lst_data=read_table(input_file_lst, dl1_params_lstcam_key)\n",
    "dl1_lst_data"
   ]
  },
  {
   "cell_type": "code",
   "execution_count": 9,
   "id": "0adab01f",
   "metadata": {},
   "outputs": [
    {
     "name": "stdout",
     "output_type": "stream",
     "text": [
      "Effective time: 13.585437297821043 s\n",
      "Elapsed time: 14.002423524856567 s\n"
     ]
    }
   ],
   "source": [
    "dl1_lst_data =add_delta_t_key(dl1_lst_data)\n",
    "time=get_effective_time(dl1_lst_data)\n",
    "print(f'Effective time: {time[0]}\\nElapsed time: {time[1]}')"
   ]
  },
  {
   "cell_type": "markdown",
   "id": "11dbc20a",
   "metadata": {},
   "source": [
    "# 2) Configuration File"
   ]
  },
  {
   "cell_type": "code",
   "execution_count": 10,
   "id": "19b8e05c",
   "metadata": {},
   "outputs": [],
   "source": [
    "config_file = './config_MAGIC_LST.yaml'\n",
    "\n",
    "with open(config_file, 'rb') as f:\n",
    "    config = yaml.safe_load(f)"
   ]
  },
  {
   "cell_type": "code",
   "execution_count": 11,
   "id": "405073ca",
   "metadata": {},
   "outputs": [
    {
     "data": {
      "text/plain": [
       "{'timestamp_type_lst': 'dragon_time',\n",
       " 'window_half_width': '300 ns',\n",
       " 'time_offset': {'start': '-10 us', 'stop': '0 us'}}"
      ]
     },
     "execution_count": 11,
     "metadata": {},
     "output_type": "execute_result"
    }
   ],
   "source": [
    "config['event_coincidence']"
   ]
  },
  {
   "cell_type": "markdown",
   "id": "03acce34",
   "metadata": {},
   "source": [
    "1) <b> 'timestamp_type_lst'<b> :\n",
    "- \"dragon_time\"\n",
    "- \"tib_time\"\n",
    "- \"ucts_time\"\n",
    "  \n",
    "2) <b>'window_half_width'<b>:\n",
    "\n",
    "    the algorithm searches for a coincident event in MAGIC dataset, with a timestmap included within half of the coincidence window from LST-1 event timestamp\n",
    "\n",
    "<img src=\"coinc_window.png\" alt=\"Alternative text\" />\n",
    "\n",
    "\n",
    "3) <b>'time_offset'<b>:\n",
    "\n",
    "    to find the final offset value to use for the ocincidence search, the algorithm scan different offset values within a given range (start and stop)\n"
   ]
  },
  {
   "cell_type": "markdown",
   "id": "b649f5d4",
   "metadata": {},
   "source": [
    "# 3) Running the script"
   ]
  },
  {
   "cell_type": "code",
   "execution_count": 12,
   "id": "2c99687e",
   "metadata": {},
   "outputs": [],
   "source": [
    "output_dir = f'{school_data_dir}/event_coincidence/output'\n",
    "# If you are working at the IT container, create your own loca loutput directory\n",
    "#output_dir = './coinc/output'\n",
    "!mkdir -p $output_dir"
   ]
  },
  {
   "cell_type": "markdown",
   "id": "fc1d8e42",
   "metadata": {},
   "source": [
    "Execute script from terminal:"
   ]
  },
  {
   "cell_type": "code",
   "execution_count": null,
   "id": "40a3fab9",
   "metadata": {},
   "outputs": [
    {
     "name": "stdout",
     "output_type": "stream",
     "text": [
      "\n",
      "Input LST-1 DL1 data file: /fefs/aswg/workspace/2023_joint_analysis_school/event_coincidence/input/DL1/LST1/20210213/dl1_LST-1.Run03636.0039.h5\n",
      "LST-1: 48108 events\n",
      "\n",
      "Input MAGIC directory: /fefs/aswg/workspace/2023_joint_analysis_school/event_coincidence/input/DL1/MAGIC/2021_02_14\n",
      "\n",
      "The following DL1 data files are found:\n",
      "/fefs/aswg/workspace/2023_joint_analysis_school/event_coincidence/input/DL1/MAGIC/2021_02_14/dl1_M1.Run05094487.001.h5\n",
      "/fefs/aswg/workspace/2023_joint_analysis_school/event_coincidence/input/DL1/MAGIC/2021_02_14/dl1_M1.Run05094487.002.h5\n",
      "/fefs/aswg/workspace/2023_joint_analysis_school/event_coincidence/input/DL1/MAGIC/2021_02_14/dl1_M1.Run05094487.003.h5\n",
      "/fefs/aswg/workspace/2023_joint_analysis_school/event_coincidence/input/DL1/MAGIC/2021_02_14/dl1_M1.Run05094487.004.h5\n",
      "/fefs/aswg/workspace/2023_joint_analysis_school/event_coincidence/input/DL1/MAGIC/2021_02_14/dl1_M1.Run05094487.005.h5\n",
      "/fefs/aswg/workspace/2023_joint_analysis_school/event_coincidence/input/DL1/MAGIC/2021_02_14/dl1_M1.Run05094487.006.h5\n",
      "/fefs/aswg/workspace/2023_joint_analysis_school/event_coincidence/input/DL1/MAGIC/2021_02_14/dl1_M1.Run05094487.007.h5\n",
      "/fefs/aswg/workspace/2023_joint_analysis_school/event_coincidence/input/DL1/MAGIC/2021_02_14/dl1_M1.Run05094487.008.h5\n",
      "/fefs/aswg/workspace/2023_joint_analysis_school/event_coincidence/input/DL1/MAGIC/2021_02_14/dl1_M1.Run05094487.009.h5\n",
      "/fefs/aswg/workspace/2023_joint_analysis_school/event_coincidence/input/DL1/MAGIC/2021_02_14/dl1_M1.Run05094487.010.h5\n",
      "/fefs/aswg/workspace/2023_joint_analysis_school/event_coincidence/input/DL1/MAGIC/2021_02_14/dl1_M1.Run05094487.011.h5\n",
      "/fefs/aswg/workspace/2023_joint_analysis_school/event_coincidence/input/DL1/MAGIC/2021_02_14/dl1_M1.Run05094487.012.h5\n",
      "/fefs/aswg/workspace/2023_joint_analysis_school/event_coincidence/input/DL1/MAGIC/2021_02_14/dl1_M1.Run05094487.013.h5\n",
      "/fefs/aswg/workspace/2023_joint_analysis_school/event_coincidence/input/DL1/MAGIC/2021_02_14/dl1_M1.Run05094487.014.h5\n",
      "/fefs/aswg/workspace/2023_joint_analysis_school/event_coincidence/input/DL1/MAGIC/2021_02_14/dl1_M1.Run05094487.015.h5\n",
      "/fefs/aswg/workspace/2023_joint_analysis_school/event_coincidence/input/DL1/MAGIC/2021_02_14/dl1_M1.Run05094487.016.h5\n",
      "/fefs/aswg/workspace/2023_joint_analysis_school/event_coincidence/input/DL1/MAGIC/2021_02_14/dl1_M1.Run05094487.017.h5\n",
      "/fefs/aswg/workspace/2023_joint_analysis_school/event_coincidence/input/DL1/MAGIC/2021_02_14/dl1_M1.Run05094487.018.h5\n",
      "/fefs/aswg/workspace/2023_joint_analysis_school/event_coincidence/input/DL1/MAGIC/2021_02_14/dl1_M1.Run05094487.019.h5\n",
      "/fefs/aswg/workspace/2023_joint_analysis_school/event_coincidence/input/DL1/MAGIC/2021_02_14/dl1_M1.Run05094488.001.h5\n",
      "/fefs/aswg/workspace/2023_joint_analysis_school/event_coincidence/input/DL1/MAGIC/2021_02_14/dl1_M1.Run05094488.002.h5\n",
      "/fefs/aswg/workspace/2023_joint_analysis_school/event_coincidence/input/DL1/MAGIC/2021_02_14/dl1_M1.Run05094488.003.h5\n",
      "/fefs/aswg/workspace/2023_joint_analysis_school/event_coincidence/input/DL1/MAGIC/2021_02_14/dl1_M1.Run05094488.004.h5\n",
      "/fefs/aswg/workspace/2023_joint_analysis_school/event_coincidence/input/DL1/MAGIC/2021_02_14/dl1_M1.Run05094488.005.h5\n",
      "/fefs/aswg/workspace/2023_joint_analysis_school/event_coincidence/input/DL1/MAGIC/2021_02_14/dl1_M1.Run05094488.006.h5\n",
      "/fefs/aswg/workspace/2023_joint_analysis_school/event_coincidence/input/DL1/MAGIC/2021_02_14/dl1_M1.Run05094488.007.h5\n",
      "/fefs/aswg/workspace/2023_joint_analysis_school/event_coincidence/input/DL1/MAGIC/2021_02_14/dl1_M1.Run05094488.008.h5\n",
      "/fefs/aswg/workspace/2023_joint_analysis_school/event_coincidence/input/DL1/MAGIC/2021_02_14/dl1_M1.Run05094488.009.h5\n",
      "/fefs/aswg/workspace/2023_joint_analysis_school/event_coincidence/input/DL1/MAGIC/2021_02_14/dl1_M1.Run05094488.010.h5\n",
      "/fefs/aswg/workspace/2023_joint_analysis_school/event_coincidence/input/DL1/MAGIC/2021_02_14/dl1_M1.Run05094488.011.h5\n",
      "/fefs/aswg/workspace/2023_joint_analysis_school/event_coincidence/input/DL1/MAGIC/2021_02_14/dl1_M1.Run05094488.012.h5\n",
      "/fefs/aswg/workspace/2023_joint_analysis_school/event_coincidence/input/DL1/MAGIC/2021_02_14/dl1_M1.Run05094488.013.h5\n",
      "/fefs/aswg/workspace/2023_joint_analysis_school/event_coincidence/input/DL1/MAGIC/2021_02_14/dl1_M1.Run05094488.014.h5\n",
      "/fefs/aswg/workspace/2023_joint_analysis_school/event_coincidence/input/DL1/MAGIC/2021_02_14/dl1_M1.Run05094488.015.h5\n",
      "/fefs/aswg/workspace/2023_joint_analysis_school/event_coincidence/input/DL1/MAGIC/2021_02_14/dl1_M1.Run05094488.016.h5\n",
      "/fefs/aswg/workspace/2023_joint_analysis_school/event_coincidence/input/DL1/MAGIC/2021_02_14/dl1_M1.Run05094488.017.h5\n",
      "/fefs/aswg/workspace/2023_joint_analysis_school/event_coincidence/input/DL1/MAGIC/2021_02_14/dl1_M1.Run05094488.018.h5\n",
      "/fefs/aswg/workspace/2023_joint_analysis_school/event_coincidence/input/DL1/MAGIC/2021_02_14/dl1_M1.Run05094488.019.h5\n",
      "/fefs/aswg/workspace/2023_joint_analysis_school/event_coincidence/input/DL1/MAGIC/2021_02_14/dl1_M2.Run05094487.001.h5\n",
      "/fefs/aswg/workspace/2023_joint_analysis_school/event_coincidence/input/DL1/MAGIC/2021_02_14/dl1_M2.Run05094487.002.h5\n",
      "/fefs/aswg/workspace/2023_joint_analysis_school/event_coincidence/input/DL1/MAGIC/2021_02_14/dl1_M2.Run05094487.003.h5\n",
      "/fefs/aswg/workspace/2023_joint_analysis_school/event_coincidence/input/DL1/MAGIC/2021_02_14/dl1_M2.Run05094487.004.h5\n",
      "/fefs/aswg/workspace/2023_joint_analysis_school/event_coincidence/input/DL1/MAGIC/2021_02_14/dl1_M2.Run05094487.005.h5\n",
      "/fefs/aswg/workspace/2023_joint_analysis_school/event_coincidence/input/DL1/MAGIC/2021_02_14/dl1_M2.Run05094487.006.h5\n",
      "/fefs/aswg/workspace/2023_joint_analysis_school/event_coincidence/input/DL1/MAGIC/2021_02_14/dl1_M2.Run05094487.007.h5\n",
      "/fefs/aswg/workspace/2023_joint_analysis_school/event_coincidence/input/DL1/MAGIC/2021_02_14/dl1_M2.Run05094487.008.h5\n",
      "/fefs/aswg/workspace/2023_joint_analysis_school/event_coincidence/input/DL1/MAGIC/2021_02_14/dl1_M2.Run05094487.009.h5\n",
      "/fefs/aswg/workspace/2023_joint_analysis_school/event_coincidence/input/DL1/MAGIC/2021_02_14/dl1_M2.Run05094487.010.h5\n",
      "/fefs/aswg/workspace/2023_joint_analysis_school/event_coincidence/input/DL1/MAGIC/2021_02_14/dl1_M2.Run05094487.011.h5\n",
      "/fefs/aswg/workspace/2023_joint_analysis_school/event_coincidence/input/DL1/MAGIC/2021_02_14/dl1_M2.Run05094487.012.h5\n",
      "/fefs/aswg/workspace/2023_joint_analysis_school/event_coincidence/input/DL1/MAGIC/2021_02_14/dl1_M2.Run05094487.013.h5\n",
      "/fefs/aswg/workspace/2023_joint_analysis_school/event_coincidence/input/DL1/MAGIC/2021_02_14/dl1_M2.Run05094487.014.h5\n",
      "/fefs/aswg/workspace/2023_joint_analysis_school/event_coincidence/input/DL1/MAGIC/2021_02_14/dl1_M2.Run05094487.015.h5\n",
      "/fefs/aswg/workspace/2023_joint_analysis_school/event_coincidence/input/DL1/MAGIC/2021_02_14/dl1_M2.Run05094487.016.h5\n",
      "/fefs/aswg/workspace/2023_joint_analysis_school/event_coincidence/input/DL1/MAGIC/2021_02_14/dl1_M2.Run05094487.017.h5\n",
      "/fefs/aswg/workspace/2023_joint_analysis_school/event_coincidence/input/DL1/MAGIC/2021_02_14/dl1_M2.Run05094487.018.h5\n",
      "/fefs/aswg/workspace/2023_joint_analysis_school/event_coincidence/input/DL1/MAGIC/2021_02_14/dl1_M2.Run05094487.019.h5\n",
      "/fefs/aswg/workspace/2023_joint_analysis_school/event_coincidence/input/DL1/MAGIC/2021_02_14/dl1_M2.Run05094488.001.h5\n",
      "/fefs/aswg/workspace/2023_joint_analysis_school/event_coincidence/input/DL1/MAGIC/2021_02_14/dl1_M2.Run05094488.002.h5\n",
      "/fefs/aswg/workspace/2023_joint_analysis_school/event_coincidence/input/DL1/MAGIC/2021_02_14/dl1_M2.Run05094488.003.h5\n",
      "/fefs/aswg/workspace/2023_joint_analysis_school/event_coincidence/input/DL1/MAGIC/2021_02_14/dl1_M2.Run05094488.004.h5\n",
      "/fefs/aswg/workspace/2023_joint_analysis_school/event_coincidence/input/DL1/MAGIC/2021_02_14/dl1_M2.Run05094488.005.h5\n",
      "/fefs/aswg/workspace/2023_joint_analysis_school/event_coincidence/input/DL1/MAGIC/2021_02_14/dl1_M2.Run05094488.006.h5\n",
      "/fefs/aswg/workspace/2023_joint_analysis_school/event_coincidence/input/DL1/MAGIC/2021_02_14/dl1_M2.Run05094488.007.h5\n",
      "/fefs/aswg/workspace/2023_joint_analysis_school/event_coincidence/input/DL1/MAGIC/2021_02_14/dl1_M2.Run05094488.008.h5\n",
      "/fefs/aswg/workspace/2023_joint_analysis_school/event_coincidence/input/DL1/MAGIC/2021_02_14/dl1_M2.Run05094488.009.h5\n",
      "/fefs/aswg/workspace/2023_joint_analysis_school/event_coincidence/input/DL1/MAGIC/2021_02_14/dl1_M2.Run05094488.010.h5\n"
     ]
    },
    {
     "name": "stdout",
     "output_type": "stream",
     "text": [
      "/fefs/aswg/workspace/2023_joint_analysis_school/event_coincidence/input/DL1/MAGIC/2021_02_14/dl1_M2.Run05094488.011.h5\n",
      "/fefs/aswg/workspace/2023_joint_analysis_school/event_coincidence/input/DL1/MAGIC/2021_02_14/dl1_M2.Run05094488.012.h5\n",
      "/fefs/aswg/workspace/2023_joint_analysis_school/event_coincidence/input/DL1/MAGIC/2021_02_14/dl1_M2.Run05094488.013.h5\n",
      "/fefs/aswg/workspace/2023_joint_analysis_school/event_coincidence/input/DL1/MAGIC/2021_02_14/dl1_M2.Run05094488.014.h5\n",
      "/fefs/aswg/workspace/2023_joint_analysis_school/event_coincidence/input/DL1/MAGIC/2021_02_14/dl1_M2.Run05094488.015.h5\n",
      "/fefs/aswg/workspace/2023_joint_analysis_school/event_coincidence/input/DL1/MAGIC/2021_02_14/dl1_M2.Run05094488.016.h5\n",
      "/fefs/aswg/workspace/2023_joint_analysis_school/event_coincidence/input/DL1/MAGIC/2021_02_14/dl1_M2.Run05094488.017.h5\n",
      "/fefs/aswg/workspace/2023_joint_analysis_school/event_coincidence/input/DL1/MAGIC/2021_02_14/dl1_M2.Run05094488.018.h5\n",
      "/fefs/aswg/workspace/2023_joint_analysis_school/event_coincidence/input/DL1/MAGIC/2021_02_14/dl1_M2.Run05094488.019.h5\n",
      "/fefs/aswg/workspace/2023_joint_analysis_school/event_coincidence/input/DL1/MAGIC/2021_02_14/dl1_M2.Run05094488.020.h5\n",
      "MAGIC-I: 405501 events\n",
      "MAGIC-II: 440555 events\n",
      "\n",
      "LST timestamp type: dragon_time\n",
      "\n",
      "Coincidence window half width: 300 ns\n",
      "\n",
      "Time offsets:\n",
      "    start: -10 us\n",
      "    stop: 0 us \n",
      "\n",
      "Extracting the MAGIC-I events taken when LST-1 observed...\n",
      "--> 2464 events are found.\n",
      "\n",
      "Checking the event coincidence...\n",
      "time offset: -10.0 us --> 3 events\n",
      "time offset: -9.9 us --> 3 events\n",
      "time offset: -9.8 us --> 4 events\n",
      "time offset: -9.7 us --> 4 events\n",
      "time offset: -9.6 us --> 4 events\n",
      "time offset: -9.5 us --> 4 events\n",
      "time offset: -9.4 us --> 3 events\n",
      "time offset: -9.3 us --> 1 events\n",
      "time offset: -9.2 us --> 1 events\n",
      "time offset: -9.1 us --> 0 events\n",
      "time offset: -9.0 us --> 0 events\n",
      "time offset: -8.9 us --> 0 events\n",
      "time offset: -8.8 us --> 0 events\n",
      "time offset: -8.7 us --> 0 events\n",
      "time offset: -8.6 us --> 0 events\n",
      "time offset: -8.5 us --> 0 events\n",
      "time offset: -8.4 us --> 0 events\n",
      "time offset: -8.3 us --> 0 events\n",
      "time offset: -8.2 us --> 0 events\n",
      "time offset: -8.1 us --> 0 events\n",
      "time offset: -8.0 us --> 1 events\n",
      "time offset: -7.9 us --> 1 events\n",
      "time offset: -7.8 us --> 2 events\n",
      "time offset: -7.7 us --> 2 events\n",
      "time offset: -7.6 us --> 2 events\n",
      "time offset: -7.5 us --> 2 events\n",
      "time offset: -7.4 us --> 2 events\n",
      "time offset: -7.3 us --> 1 events\n",
      "time offset: -7.2 us --> 1 events\n",
      "time offset: -7.1 us --> 0 events\n",
      "time offset: -7.0 us --> 0 events\n",
      "time offset: -6.9 us --> 0 events\n",
      "time offset: -6.8 us --> 0 events\n",
      "time offset: -6.7 us --> 0 events\n",
      "time offset: -6.6 us --> 0 events\n",
      "time offset: -6.5 us --> 0 events\n",
      "time offset: -6.4 us --> 0 events\n",
      "time offset: -6.3 us --> 1 events\n",
      "time offset: -6.2 us --> 1 events\n",
      "time offset: -6.1 us --> 1 events\n",
      "time offset: -6.0 us --> 1 events\n",
      "time offset: -5.9 us --> 1 events\n",
      "time offset: -5.8 us --> 1 events\n",
      "time offset: -5.7 us --> 1 events\n",
      "time offset: -5.6 us --> 0 events\n",
      "time offset: -5.5 us --> 1 events\n",
      "time offset: -5.4 us --> 1 events\n",
      "time offset: -5.3 us --> 1 events\n",
      "time offset: -5.2 us --> 1 events\n",
      "time offset: -5.1 us --> 1 events\n",
      "time offset: -5.0 us --> 1 events\n",
      "time offset: -4.9 us --> 1 events\n",
      "time offset: -4.8 us --> 0 events\n",
      "time offset: -4.7 us --> 0 events\n",
      "time offset: -4.6 us --> 0 events\n",
      "time offset: -4.5 us --> 0 events\n",
      "time offset: -4.4 us --> 0 events\n",
      "time offset: -4.3 us --> 2 events\n",
      "time offset: -4.2 us --> 3 events\n",
      "time offset: -4.1 us --> 4 events\n",
      "time offset: -4.0 us --> 4 events\n",
      "time offset: -3.9 us --> 4 events\n",
      "time offset: -3.8 us --> 4 events\n",
      "time offset: -3.7 us --> 4 events\n",
      "time offset: -3.6 us --> 2 events\n",
      "time offset: -3.5 us --> 1 events\n",
      "time offset: -3.4 us --> 1 events\n",
      "time offset: -3.3 us --> 233 events\n",
      "time offset: -3.2 us --> 583 events\n",
      "time offset: -3.1 us --> 1301 events\n",
      "time offset: -3.0 us --> 1567 events\n",
      "time offset: -2.9 us --> 1711 events\n",
      "time offset: -2.8 us --> 1725 events\n",
      "time offset: -2.7 us --> 1735 events\n",
      "time offset: -2.6 us --> 1503 events\n",
      "time offset: -2.5 us --> 1159 events\n",
      "time offset: -2.4 us --> 448 events\n",
      "time offset: -2.3 us --> 185 events\n",
      "time offset: -2.2 us --> 42 events\n",
      "time offset: -2.1 us --> 29 events\n",
      "time offset: -2.0 us --> 18 events\n",
      "time offset: -1.9 us --> 19 events\n",
      "time offset: -1.8 us --> 13 events\n",
      "time offset: -1.7 us --> 10 events\n",
      "time offset: -1.6 us --> 8 events\n",
      "time offset: -1.5 us --> 8 events\n",
      "time offset: -1.4 us --> 7 events\n",
      "time offset: -1.3 us --> 8 events\n"
     ]
    }
   ],
   "source": [
    "!lst1_magic_event_coincidence\\\n",
    "--input-file-lst $input_file_lst\\\n",
    "--input-dir-magic $magic_dl1_dir\\\n",
    "--output-dir $output_dir\\\n",
    "--config-file $config_file"
   ]
  },
  {
   "cell_type": "markdown",
   "id": "80c4895d",
   "metadata": {},
   "source": [
    "Import function on a notebook:"
   ]
  },
  {
   "cell_type": "code",
   "execution_count": null,
   "id": "d79b6aee",
   "metadata": {},
   "outputs": [],
   "source": [
    "from magicctapipe.scripts.lst1_magic import event_coincidence"
   ]
  },
  {
   "cell_type": "code",
   "execution_count": null,
   "id": "d8781e29",
   "metadata": {
    "scrolled": false
   },
   "outputs": [],
   "source": [
    "#event_coincidence(input_file_lst=input_file_lst, input_dir_magic=magic_dl1_dir, output_dir=output_dir, config=config)"
   ]
  },
  {
   "cell_type": "markdown",
   "id": "dc5b5318",
   "metadata": {},
   "source": [
    "# 4) Check the output data"
   ]
  },
  {
   "cell_type": "markdown",
   "id": "c0dcf0f3",
   "metadata": {},
   "source": [
    "The output file contains 3 tables :\n",
    "1) coincidence\n",
    "\n",
    "    - feature\n",
    "    \n",
    "    it contains:\n",
    "        - the subrun average timing and poinying information for both MAGIC and LST\n",
    "        - the average offset, coincidence window and number of found coincident events\n",
    "    for the  2 'coincidence_id' types\n",
    "        -12 = M1 - LST\n",
    "        -13 = M2 - LST\n",
    "        \n",
    "    - profile\n",
    "    \n",
    "    it contains the number identified coincident events for the 2 'coincidence_id' types, for all the tried time offsets\n",
    "    \n",
    "    \n",
    "2) configuration/instrument\n",
    "\n",
    "      it contains a series of camera and instrumental information for the MAGIC telescopes\n",
    "\n",
    "\n",
    "3) events:\n",
    "\n",
    "    - parameters:\n",
    "    \n",
    "    it contains all the coincident events information:\n",
    "        - LST run ID\n",
    "        - MAGIC run ID\n",
    "        - the combnation ('combo_type') of telescopes that saw the events:\n",
    "            - 0 --> M1 + M2 (only)\n",
    "            - 1 --> LST-1 + M1\n",
    "            - 2 --> LST-1 + M2\n",
    "            - 3 --> LST-1 + M1 + M2\n",
    "        - the multuplicty of the event --> total number of telescopes that saw the event (either 2 or 3)\n",
    "        - the event single-telescope parameters for all the telescopes that saw the event\n",
    "            "
   ]
  },
  {
   "cell_type": "code",
   "execution_count": null,
   "id": "4e30fdae",
   "metadata": {},
   "outputs": [],
   "source": [
    "tel_combos = {12: \"LST1 - M1\", 13: \"LST1 - M2\"}"
   ]
  },
  {
   "cell_type": "code",
   "execution_count": null,
   "id": "ae1f1b3c",
   "metadata": {},
   "outputs": [],
   "source": [
    "output_file=f'{output_dir}/dl1_LST-1_MAGIC.Run03636.0039.h5'"
   ]
  },
  {
   "cell_type": "markdown",
   "id": "3a5cc3e5",
   "metadata": {},
   "source": [
    "# 4.1) Check the coincident event table"
   ]
  },
  {
   "cell_type": "code",
   "execution_count": null,
   "id": "db5e9bce",
   "metadata": {},
   "outputs": [],
   "source": [
    "data = pd.read_hdf(output_file, key='events/parameters')\n",
    "data.set_index(['obs_id', 'event_id', 'tel_id'], inplace=True)\n",
    "data.sort_index(inplace=True)"
   ]
  },
  {
   "cell_type": "code",
   "execution_count": null,
   "id": "a4b3d397",
   "metadata": {},
   "outputs": [],
   "source": [
    "data.head(10)"
   ]
  },
  {
   "cell_type": "code",
   "execution_count": null,
   "id": "f382833b",
   "metadata": {},
   "outputs": [],
   "source": [
    "data.columns"
   ]
  },
  {
   "cell_type": "markdown",
   "id": "1dbdc475",
   "metadata": {},
   "source": [
    "<b> Check the intensity correlation between LST-1 and MAGIC <b>"
   ]
  },
  {
   "cell_type": "code",
   "execution_count": null,
   "id": "c0c18ec7",
   "metadata": {
    "scrolled": false
   },
   "outputs": [],
   "source": [
    "plt.figure(figsize=(20, 7))\n",
    "grid = (1, 2)\n",
    "\n",
    "df = data.query('multiplicity == 3')\n",
    "\n",
    "for i_grid, (tel_name, tel_id) in enumerate(zip(['MAGIC-I', 'MAGIC-II'], [2, 3])):\n",
    "    \n",
    "    plt.subplot2grid(grid, (0, i_grid))\n",
    "    plt.title(f'LST-1 vs {tel_name}')\n",
    "    plt.xlabel(f'{tel_name} intensity [phe]')\n",
    "    plt.ylabel('LST-1 intensity [phe]')\n",
    "    plt.loglog()\n",
    "    \n",
    "    plt.hist2d(\n",
    "        df.query(f'tel_id == {tel_id}')['intensity'].to_numpy(),\n",
    "        df.query(f'tel_id == 1')['intensity'].to_numpy(),\n",
    "        bins=np.logspace(1, 5, 41),norm='log'\n",
    "    )\n",
    "    \n",
    "    plt.plot((1e1, 1e5), (1e1, 1e5), linestyle='--', color='black')\n",
    "    \n",
    "    plt.colorbar()\n",
    "    \n",
    "    plt.grid()"
   ]
  },
  {
   "cell_type": "markdown",
   "id": "c03ee067",
   "metadata": {},
   "source": [
    "# 4.2) Check the coincidence distribution"
   ]
  },
  {
   "cell_type": "code",
   "execution_count": null,
   "id": "3f0acbc4",
   "metadata": {},
   "outputs": [],
   "source": [
    "profile = pd.read_hdf(output_file, key='coincidence/profile')\n",
    "profile"
   ]
  },
  {
   "cell_type": "code",
   "execution_count": null,
   "id": "5b73b40c",
   "metadata": {},
   "outputs": [],
   "source": [
    "features = pd.read_hdf(output_file, key='coincidence/feature')\n",
    "features"
   ]
  },
  {
   "cell_type": "code",
   "execution_count": null,
   "id": "e59f9be6",
   "metadata": {},
   "outputs": [],
   "source": [
    "plt.figure(figsize=(12, 7))\n",
    "plt.xlabel('Time offset [us]')#,fontsize=24,fontweight='bold'),\n",
    "plt.ylabel('Number of coincident events')#,fontsize=24,fontweight='bold'),\n",
    "plot_xlim=[-5e6,-1e6]\n",
    "sec2us = 1e6\n",
    "ns2us = 1e3\n",
    "for color,tel_combo in zip(['red','blue'],tel_combos):\n",
    "    \n",
    "    combo_name=tel_combos[tel_combo]\n",
    "    \n",
    "    plt.plot(\n",
    "        profile['time_offset'].values * sec2us, profile[f'n_coincidence_tel{tel_combo}'].values, \n",
    "        linestyle=\"None\", marker='o', color=color\n",
    "    )\n",
    "    \n",
    "    plt.step(\n",
    "        profile['time_offset'].values * sec2us, profile[f'n_coincidence_tel{tel_combo}'].values, \n",
    "        where='post', label=combo_name,color=color\n",
    "    )\n",
    "    \n",
    "    offset_usec_avg = features.query(f'coincidence_id == {tel_combo}')['average_offset'].values * sec2us\n",
    "    window_half_width = features.query(f'coincidence_id == {tel_combo}')['window_half_width'].values * ns2us\n",
    "    \n",
    "    plt.plot(\n",
    "        np.repeat(offset_usec_avg, 2), (0, plt.ylim()[1]+10), linestyle='--', alpha=0.8, color=color\n",
    "    )\n",
    "    a=plt.ylim()[1]\n",
    "    plt.axvspan(offset_usec_avg-window_half_width,offset_usec_avg+window_half_width,alpha=0.1, color=color)\n",
    "    #plt.arrow(offset_usec_avg+window_half_width,a+10,1,0,head_width=30, head_length=20000, linewidth=4, color=color,length_includes_head=True)\n",
    "    #plt.arrow(offset_usec_avg+window_half_width,a+10,-window_half_width,0,head_width=30, head_length=20000, linewidth=4, color=color,length_includes_head=True,label='coincidence window')\n",
    "\n",
    "text=f'Offset region = 2*coincidece window'\n",
    "plt.text(plot_xlim[0]-plot_xlim[0]/500,plt.ylim()[1]-300,s=text,fontsize=15)\n",
    "plt.grid()\n",
    "plt.xlim(plot_xlim[0],plot_xlim[1])\n",
    "#plt.xticks(fontsize=24,fontweight='bold')\n",
    "#plt.yticks(fontsize=24,fontweight='bold')\n",
    "plt.legend()"
   ]
  },
  {
   "cell_type": "markdown",
   "id": "7e6abecd",
   "metadata": {},
   "source": [
    "# 5) Run-wise checks"
   ]
  },
  {
   "cell_type": "markdown",
   "id": "19157443",
   "metadata": {},
   "source": [
    "For for file-size reasons, for this part we will load already produced 'dl1_coincidence' sub-run files "
   ]
  },
  {
   "cell_type": "markdown",
   "id": "7ccea882",
   "metadata": {},
   "source": [
    "# 5.1) Load all the subrun input files"
   ]
  },
  {
   "cell_type": "code",
   "execution_count": null,
   "id": "b9ac1270",
   "metadata": {},
   "outputs": [],
   "source": [
    "input_dl1_coinc_dir=f'{dl1_dir}/DL1_coinc'"
   ]
  },
  {
   "cell_type": "code",
   "execution_count": null,
   "id": "0083aaac",
   "metadata": {},
   "outputs": [],
   "source": [
    "print(\"Loading the input files...\")\n",
    "#input_files=glob.glob(f'{school_data_dir}/stereo_reconstruction/input/DL1_coinc/{date_lst}/*.h5')\n",
    "input_files=glob.glob(f'{input_dl1_coinc_dir}/{date_lst}/*3636*.h5')\n",
    "input_files.sort()\n",
    "n_files=len(input_files)\n",
    "data_list=[]\n",
    "for i_file, input_file in enumerate(input_files):\n",
    "\n",
    "    if i_file % 10 == 0:\n",
    "        print(f\"{i_file}/{n_files}\")\n",
    "\n",
    "    # Load the coincidence features\n",
    "    df = pd.read_hdf(input_file, key=\"coincidence/feature\")\n",
    "    data_list.append(df)\n",
    "\n",
    "print(f\"{n_files}/{n_files}\")\n",
    "\n",
    "# Combine the data frames\n",
    "features = pd.concat(data_list)\n",
    "\n",
    "# Show the data frame\n",
    "features.head()"
   ]
  },
  {
   "cell_type": "markdown",
   "id": "51ea20b1",
   "metadata": {},
   "source": [
    "# 5.2) Check the average offset"
   ]
  },
  {
   "cell_type": "code",
   "execution_count": null,
   "id": "417c73cd",
   "metadata": {},
   "outputs": [],
   "source": [
    "plt.figure(figsize=(20, 7))\n",
    "plt.xlabel(\"Unix time [sec]\")\n",
    "plt.ylabel(\"Average offset [us]\")\n",
    "plt.grid()\n",
    "\n",
    "# Loop over every coincidence ID\n",
    "for tel_combo in tel_combos:\n",
    "    \n",
    "    combo_name=tel_combos[tel_combo]\n",
    "\n",
    "    df_features = features.query(f\"coincidence_id == {tel_combo}\")\n",
    "\n",
    "    # Plot the average offset\n",
    "    plt.plot(\n",
    "        df_features[\"unix_time\"],\n",
    "        df_features[\"average_offset\"],\n",
    "        marker=\"o\",\n",
    "        label=combo_name,\n",
    "    )\n",
    "\n",
    "plt.legend()"
   ]
  },
  {
   "cell_type": "markdown",
   "id": "5c29383c",
   "metadata": {},
   "source": [
    "# 5.2) Check the number of coincident events"
   ]
  },
  {
   "cell_type": "code",
   "execution_count": null,
   "id": "e0e98c1f",
   "metadata": {},
   "outputs": [],
   "source": [
    "plt.figure(figsize=(20, 7))\n",
    "plt.xlabel(\"Unix time [sec]\")\n",
    "plt.ylabel(\"Number of coincident events\")\n",
    "plt.grid()\n",
    "\n",
    "# Loop over every coincidence ID\n",
    "for tel_combo in tel_combos:\n",
    "    \n",
    "    combo_name=tel_combos[tel_combo]\n",
    "\n",
    "    df_features = features.query(f\"coincidence_id == {tel_combo}\")\n",
    "\n",
    "    # Plot the number of coincident events\n",
    "    plt.plot(\n",
    "        df_features[\"unix_time\"],\n",
    "        df_features[\"n_coincidence\"],\n",
    "        marker=\"o\",\n",
    "        label=combo_name,\n",
    "    )\n",
    "\n",
    "plt.legend()"
   ]
  },
  {
   "cell_type": "markdown",
   "id": "cc02ffc9",
   "metadata": {},
   "source": [
    "# 5.3) Check the fraction of coincidence"
   ]
  },
  {
   "cell_type": "code",
   "execution_count": null,
   "id": "4714216d",
   "metadata": {},
   "outputs": [],
   "source": [
    "plt.figure(figsize=(20, 7))\n",
    "plt.xlabel(\"Unix time [sec]\")\n",
    "plt.ylabel(\"Fraction (= N$_\\mathrm{coinc}$ / N$_\\mathrm{magic}$)\")\n",
    "plt.ylim(0, 1)\n",
    "plt.grid()\n",
    "\n",
    "# Loop over every coincidence ID\n",
    "for tel_combo in tel_combos:\n",
    "    \n",
    "    combo_name=tel_combos[tel_combo]\n",
    "\n",
    "    df_features = features.query(f\"coincidence_id == {tel_combo}\")\n",
    "    fractions = df_features[\"n_coincidence\"] / df_features[\"n_events_magic\"]\n",
    "\n",
    "    # Plot the fraction of coincidence\n",
    "    plt.plot(df_features[\"unix_time\"], fractions, marker=\"o\", label=combo_name)\n",
    "\n",
    "plt.legend()"
   ]
  },
  {
   "cell_type": "markdown",
   "id": "f4ca9d3a",
   "metadata": {},
   "source": [
    "# 6) Check cocindences in multiple runs"
   ]
  },
  {
   "cell_type": "markdown",
   "id": "62f83fbf",
   "metadata": {},
   "source": [
    "<b> N.B: For this part the data are not stored in the school directory: no need to download so many files, it's just to show you the plots. <b>\n",
    "    \n",
    "<font color='red'> <b> DON'T EXECUTE THE FOLLOWING CELLS <b> </font>"
   ]
  },
  {
   "cell_type": "markdown",
   "id": "c12d2da3",
   "metadata": {},
   "source": [
    "Two main things can be noticed:\n",
    "\n",
    "    - The drop of coincident events at the end of each run due to the wobble change\n",
    "    - The change of average time offset and over all numerber of coincidencent events with time, due to the change of source position."
   ]
  },
  {
   "cell_type": "code",
   "execution_count": null,
   "id": "5d017033",
   "metadata": {},
   "outputs": [],
   "source": [
    "run_list=[3634,3635,3636]\n",
    "multiple_run_dir='/fefs/aswg/workspace/giorgio.pirola/Software_School_2023/data/real/joint/DL1/20210213'"
   ]
  },
  {
   "cell_type": "code",
   "execution_count": null,
   "id": "07c5f951",
   "metadata": {},
   "outputs": [],
   "source": [
    "data_list_2runs=[]\n",
    "for run_number in run_list:\n",
    "    print(f\"Loading the input files for run {run_number}...\")\n",
    "    input_files=glob.glob(f'{multiple_run_dir}/*{run_number}*.h5')\n",
    "    input_files.sort()\n",
    "    n_files=len(input_files)\n",
    "\n",
    "    for i_file, input_file in enumerate(input_files):\n",
    "\n",
    "        if i_file % 10 == 0:\n",
    "            print(f\"{i_file}/{n_files}\")\n",
    "\n",
    "        # Load the coincidence features\n",
    "        df = pd.read_hdf(input_file, key=\"coincidence/feature\")\n",
    "        df['run_number']=run_number\n",
    "        data_list_2runs.append(df)\n",
    "    \n",
    "    print(f\"{n_files}/{n_files}\")\n",
    "\n",
    "# Combine the data frames\n",
    "features_2runs = pd.concat(data_list_2runs)\n",
    "features_2runs=features_2runs.set_index('run_number')\n",
    "# Show the data frame\n",
    "features_2runs.head()"
   ]
  },
  {
   "cell_type": "code",
   "execution_count": null,
   "id": "434fb317",
   "metadata": {},
   "outputs": [],
   "source": [
    "plt.figure(figsize=(20, 14))\n",
    "plt.xlabel(\"Unix time [sec]\")\n",
    "plt.ylabel(\"Average offset [us]\")\n",
    "grid = (2, 1)\n",
    "\n",
    "for i_grid,tel_combo in enumerate(tel_combos):\n",
    "    ax = plt.gca()\n",
    "    combo_name=tel_combos[tel_combo]\n",
    "    plt.subplot2grid(grid, (i_grid,0))\n",
    "    \n",
    "    \n",
    "    plt.title(f'{combo_name}')\n",
    "    for run_number in run_list:\n",
    "        color = next(ax._get_lines.prop_cycler)['color']\n",
    "        features_run=features_2runs.iloc[features_2runs.index.get_level_values('run_number') == run_number]\n",
    "        df_features = features_run.query(f\"coincidence_id == {tel_combo}\")\n",
    "        \n",
    "        plt.plot(\n",
    "            df_features[\"unix_time\"],\n",
    "            df_features[\"average_offset\"],\n",
    "            marker=\"o\",\n",
    "            label=run_number,\n",
    "        )\n",
    "    plt.grid()\n",
    "    plt.legend()"
   ]
  },
  {
   "cell_type": "code",
   "execution_count": null,
   "id": "8a4a8627",
   "metadata": {},
   "outputs": [],
   "source": [
    "plt.figure(figsize=(20, 14))\n",
    "\n",
    "plt.xlabel(\"Unix time [sec]\")\n",
    "plt.ylabel(\"Number of coincident events\")\n",
    "\n",
    "# Loop over every coincidence ID\n",
    "grid = (2, 1)\n",
    "\n",
    "for i_grid,tel_combo in enumerate(tel_combos):\n",
    "    ax = plt.gca()\n",
    "    combo_name=tel_combos[tel_combo]\n",
    "    plt.subplot2grid(grid, (i_grid,0))\n",
    "    \n",
    "    \n",
    "    plt.title(f'{combo_name}')\n",
    "    for run_number in run_list:\n",
    "        color = next(ax._get_lines.prop_cycler)['color']\n",
    "        features_run=features_2runs.iloc[features_2runs.index.get_level_values('run_number') == run_number]\n",
    "        df_features = features_run.query(f\"coincidence_id == {tel_combo}\")\n",
    "        \n",
    "        # Plot the number of coincident events\n",
    "        plt.plot(\n",
    "            df_features[\"unix_time\"],\n",
    "            df_features[\"n_coincidence\"],\n",
    "            marker=\"o\",\n",
    "            label=run_number,\n",
    "            color=color\n",
    "        )\n",
    "    plt.grid()\n",
    "    plt.legend()"
   ]
  },
  {
   "cell_type": "code",
   "execution_count": null,
   "id": "786fa30d",
   "metadata": {
    "pycharm": {
     "name": "#%%\n"
    }
   },
   "outputs": [],
   "source": [
    "plt.figure(figsize=(20, 14))\n",
    "\n",
    "plt.xlabel(\"Unix time [sec]\")\n",
    "plt.ylabel(\"Number of coincident events\")\n",
    "\n",
    "# Loop over every coincidence ID\n",
    "grid = (2, 1)\n",
    "\n",
    "for i_grid,tel_combo in enumerate(tel_combos):\n",
    "    ax = plt.gca()\n",
    "    combo_name=tel_combos[tel_combo]\n",
    "    plt.subplot2grid(grid, (i_grid,0))\n",
    "    \n",
    "    \n",
    "    plt.title(f'{combo_name}')\n",
    "    for run_number in run_list:\n",
    "        color = next(ax._get_lines.prop_cycler)['color']\n",
    "        features_run=features_2runs.iloc[features_2runs.index.get_level_values('run_number') == run_number]\n",
    "        df_features = features_run.query(f\"coincidence_id == {tel_combo}\")\n",
    "        \n",
    "        fractions = df_features[\"n_coincidence\"] / df_features[\"n_events_magic\"]\n",
    "\n",
    "    # Plot the fraction of coincidence\n",
    "        plt.plot(df_features[\"unix_time\"], fractions, marker=\"o\", label=run_number)\n",
    "    \n",
    "    plt.grid()\n",
    "    plt.legend()"
   ]
  },
  {
   "cell_type": "code",
   "execution_count": null,
   "id": "95478b7a",
   "metadata": {},
   "outputs": [],
   "source": [
    "k=0\n",
    "plt.figure(figsize=(21, 12))\n",
    "colors=['red','blue','green']\n",
    "for tel_combo in (tel_combos):\n",
    "    \n",
    "    combo_name=tel_combos[tel_combo]\n",
    "    \n",
    "    for j,run_number in enumerate(run_list):\n",
    "        color=colors[j]\n",
    "        features_run=features_2runs.iloc[features_2runs.index.get_level_values('run_number') == run_number]\n",
    "        df_features = features_run.query(f\"coincidence_id == {tel_combo}\")\n",
    "        a=231+k\n",
    "        \n",
    "        plt.subplot(a)\n",
    "        plt.title(f'{combo_name}')\n",
    "        plt.plot(\n",
    "            df_features[\"unix_time\"],\n",
    "            np.rad2deg(df_features[\"pointing_alt_lst\"]),\n",
    "            marker=\"\",\n",
    "            label=run_number,\n",
    "            color=color\n",
    "\n",
    "        )\n",
    "        plt.plot(\n",
    "            df_features[\"unix_time\"],\n",
    "            np.rad2deg(df_features[\"pointing_alt_magic\"]),\n",
    "            marker=\"o\",\n",
    "            markersize=20,\n",
    "            color=color,\n",
    "            alpha=0.01\n",
    "        )\n",
    "        plt.xlabel(\"Unix time [sec]\")\n",
    "        plt.ylabel(\"Altitude [deg] \")\n",
    "        plt.grid()\n",
    "        plt.legend()\n",
    "        \n",
    "        \n",
    "        plt.subplot(a+1)\n",
    "        plt.title(f'{combo_name}')\n",
    "        plt.plot(\n",
    "            df_features[\"unix_time\"],\n",
    "            np.rad2deg(df_features[\"pointing_az_lst\"]),\n",
    "            marker=\"\",\n",
    "            color=color,\n",
    "            label=run_number,\n",
    "    \n",
    "        )\n",
    "        plt.plot(\n",
    "            df_features[\"unix_time\"],\n",
    "            np.rad2deg(df_features[\"pointing_az_magic\"]),\n",
    "            marker=\"o\",\n",
    "            markersize=20,\n",
    "            color=color,\n",
    "            alpha=0.01\n",
    "        )\n",
    "        plt.xlabel(\"Unix time [sec]\")\n",
    "        plt.ylabel(\"Altitude [deg] \")\n",
    "        plt.grid()\n",
    "        plt.legend()\n",
    "        \n",
    "        \n",
    "        plt.subplot(a+2)\n",
    "        plt.title(f'{combo_name}')\n",
    "        plt.plot(\n",
    "            np.rad2deg(df_features[\"pointing_az_lst\"]),\n",
    "            np.rad2deg(df_features[\"pointing_alt_lst\"]),\n",
    "            marker=\"\",\n",
    "            label=run_number,\n",
    "            color=color\n",
    "        )\n",
    "        plt.plot(\n",
    "            np.rad2deg(df_features[\"pointing_az_magic\"]),\n",
    "            np.rad2deg(df_features[\"pointing_alt_magic\"]),\n",
    "            marker=\"o\",\n",
    "            markersize=20,\n",
    "            color=color,\n",
    "            alpha=0.01\n",
    "        )\n",
    "        plt.xlabel(\"Azimuth [deg] \")\n",
    "        plt.ylabel(\"Altitude [deg] \")\n",
    "        plt.grid()\n",
    "        plt.legend()\n",
    "    k=3"
   ]
  },
  {
   "cell_type": "code",
   "execution_count": null,
   "id": "6175e2c2",
   "metadata": {},
   "outputs": [],
   "source": [
    "!rm -r $output_dir"
   ]
  }
 ],
 "metadata": {
  "kernelspec": {
   "display_name": "Python 3 (ipykernel)",
   "language": "python",
   "name": "python3"
  },
  "language_info": {
   "codemirror_mode": {
    "name": "ipython",
    "version": 3
   },
   "file_extension": ".py",
   "mimetype": "text/x-python",
   "name": "python",
   "nbconvert_exporter": "python",
   "pygments_lexer": "ipython3",
   "version": "3.8.16"
  }
 },
 "nbformat": 4,
 "nbformat_minor": 5
}

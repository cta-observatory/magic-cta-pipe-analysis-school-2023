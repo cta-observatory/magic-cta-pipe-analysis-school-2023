{
 "cells": [
  {
   "cell_type": "markdown",
   "metadata": {},
   "source": [
    "# Step 3: Instrument Response Functions from Data Level 2\n",
    "\n",
    "\n",
    "In this notebook DL2 Monte Carlo (the test sample) are used to check the quality of the assigned gammaness (with gammaness distrubutions), the energy reconstrucion (by means of the migration matrix), the reconstructed direction, the instrument effective area. Dynamic gammaness and theta cuts are calculated and applied to input events and the angular resolution, energy resolution and energy bias are evaluated.\n",
    "The effects of the cuts on signal and background events are also discussed.\n",
    "\n",
    "\n",
    "### As usual, let's start by loading some modules"
   ]
  },
  {
   "cell_type": "code",
   "execution_count": null,
   "metadata": {},
   "outputs": [],
   "source": [
    "import itertools\n",
    "import operator\n",
    "import glob\n",
    "import numpy as np\n",
    "from astropy import units as u\n",
    "from astropy.table import Table, QTable, vstack\n",
    "from magicctapipe.io import load_mc_dl2_data_file\n",
    "from matplotlib import gridspec\n",
    "import matplotlib as mpl\n",
    "from matplotlib import pyplot as plt\n",
    "from pyirf.benchmarks import angular_resolution, energy_bias_resolution\n",
    "from pyirf.cuts import calculate_percentile_cut, evaluate_binned_cut\n",
    "from pyirf.irf import effective_area_per_energy"
   ]
  },
  {
   "cell_type": "code",
   "execution_count": null,
   "metadata": {},
   "outputs": [],
   "source": [
    "# Configure the pyplot figure\n",
    "plt.rcParams.update(\n",
    "    {\"figure.figsize\": (12, 9), \"font.size\": 15, \"grid.linestyle\": \"dotted\"}\n",
    ")\n",
    "\n",
    "# Get the pyplot default color cycle\n",
    "colors = plt.rcParams[\"axes.prop_cycle\"].by_key()[\"color\"]"
   ]
  },
  {
   "cell_type": "markdown",
   "metadata": {},
   "source": [
    "### Load MC DL2 data files and set some options\n",
    "\n",
    "Here you can provide gamma and proton DL2 files: we selected those in a zenith range consistent with that used for the RFs training (Zd<53 deg) and azimuth in a narrow range (<30 deg).\n",
    "In this example we use data from the directory: /fefs/aswg/workspace/2023_joint_analysis_school/RFs_and_DL2/input/input_step_3\n",
    "\n",
    "Then we set some parameters useful for the next data handling:\n",
    "\n",
    "`quality_cuts`: disp_diff_mean<0.22 (a standard cut, the same used to produce IRFs in the pipeline)  \n",
    "`event_type`: \"software\", same as default in config.yaml (it excludes the magic-only events)  \n",
    "`dl2_weight_type`: \"intensity\", same as default in config.yaml; this is the weight used to average the DL2 single telescope values (energy/gammaness/direction) to get a single value for each quantity for the event.  \n",
    "`energy_bins`: we want to use log energy scale"
   ]
  },
  {
   "cell_type": "code",
   "execution_count": null,
   "metadata": {
    "scrolled": true
   },
   "outputs": [],
   "source": [
    "#Defining the file lists\n",
    "input_file_gamma = glob.glob('/fefs/aswg/workspace/2023_joint_analysis_school/RFs_and_DL2/input/input_step_3/DL2-gamma/*.h5')\n",
    "input_file_gamma.sort()\n",
    "print(f\"{len(input_file_gamma)} gamma files are found\")\n",
    "\n",
    "input_file_proton = glob.glob('/fefs/aswg/workspace/2023_joint_analysis_school/RFs_and_DL2/input/input_step_3/DL2-proton/*.h5')\n",
    "input_file_proton.sort()\n",
    "print(f\"{len(input_file_proton)} proton files are found\")\n",
    "\n",
    "# Cuts and Parameters\n",
    "quality_cuts= f\"(disp_diff_mean < {np.sqrt(0.05)})\"\n",
    "event_type=\"software\"\n",
    "dl2_weight_type=\"intensity\"\n",
    "energy_bins=np.logspace(-2,3,15)[2:]"
   ]
  },
  {
   "cell_type": "markdown",
   "metadata": {},
   "source": [
    "Please check if there is at least one gamma and one proton file!\n",
    "\n",
    "Now let's load these input files and check their contents (this can be quite heavy for your personal computer).\n",
    "We will call the gamma-ray table \"signal_table\", and the proton table \"background_table\".\n",
    "\n",
    "The function *load_mc_dl2_data_file* loads the DL2 data and calculates the average of the values reconstrucred by the telescopes participating to the event.\n",
    "\n",
    "For the signal_table we load them both in an \"all zenith\" dataframe and in \"low/middle/high zenith\" dataframes (the latter ones are used to evaluate effective area in this example)."
   ]
  },
  {
   "cell_type": "code",
   "execution_count": null,
   "metadata": {},
   "outputs": [],
   "source": [
    "print(\"Loading the input files...\")\n",
    "\n",
    "signal_table=[]\n",
    "background_table=[]\n",
    "signal_table_6_26=[]\n",
    "signal_table_26_46=[]\n",
    "signal_table_46_67=[]\n",
    "\n",
    "#First we do for the gammas:\n",
    "for i_file, input_file in enumerate(input_file_gamma):\n",
    "    # Load the input file\n",
    "    sig_table, sig_pointing, sig_sim_config =load_mc_dl2_data_file(\n",
    "        input_file, quality_cuts, event_type, dl2_weight_type\n",
    "    )\n",
    "    \n",
    "    if sig_pointing[0]<=26:\n",
    "        signal_table_6_26=vstack([signal_table_6_26,sig_table])\n",
    "    elif sig_pointing[0]<=46:\n",
    "        signal_table_26_46=vstack([signal_table_26_46,sig_table])\n",
    "    elif sig_pointing[0]<=67:\n",
    "        signal_table_46_67=vstack([signal_table_46_67,sig_table])\n",
    "    signal_table=vstack([signal_table,sig_table])\n",
    "\n",
    "#And then for the protons:\n",
    "for i_file, input_file in enumerate(input_file_proton):\n",
    "    # Load the input file\n",
    "    back_table, back_pointing, back_sim_config =load_mc_dl2_data_file(\n",
    "        input_file, quality_cuts, event_type, dl2_weight_type\n",
    "   \n",
    "    ) \n",
    "    \n",
    "    background_table=vstack([background_table,back_table])\n",
    "\n"
   ]
  },
  {
   "cell_type": "markdown",
   "metadata": {},
   "source": [
    "And this is how these tables look like:"
   ]
  },
  {
   "cell_type": "code",
   "execution_count": null,
   "metadata": {},
   "outputs": [],
   "source": [
    "signal_table"
   ]
  },
  {
   "cell_type": "code",
   "execution_count": null,
   "metadata": {},
   "outputs": [],
   "source": [
    "background_table"
   ]
  },
  {
   "cell_type": "markdown",
   "metadata": {},
   "source": [
    "If you take a look at the colum \"gammaness\" in both tables, you will see that the values of gammaness for the protons is smaller than for the gamma rays. This means that the classification of events was good, but let's do a couple of plots to better compare."
   ]
  },
  {
   "cell_type": "markdown",
   "metadata": {},
   "source": [
    "### Gammaness \n",
    "\n",
    "Let's compare these two MC samples, i.e. gammas and protons, in terms of their distributions of gammaness. Let's start with the simulated gamma rays:"
   ]
  },
  {
   "cell_type": "code",
   "execution_count": null,
   "metadata": {},
   "outputs": [],
   "source": [
    "x=np.array(signal_table['true_energy'].value)\n",
    "y=np.array(signal_table['gammaness'].value)\n",
    "plt.figure()\n",
    "y_space = np.linspace(0, 1, 30)\n",
    "x_space = np.logspace(-2, 3, 60)\n",
    "plt.xscale(\"log\")\n",
    "plt.xlabel(\"True energy of the simulated gamma rays [TeV]\")\n",
    "plt.ylabel(\"Gammaness\")\n",
    "plt.hist2d(x,y, bins=(x_space, y_space),  norm=mpl.colors.LogNorm())\n",
    "plt.colorbar(label=\"Number of events\")\n",
    "plt.title(\"Simulated gamma rays\")"
   ]
  },
  {
   "cell_type": "markdown",
   "metadata": {},
   "source": [
    "The plot above seems quite good because most of the simulated gamma rays indeed have high values of gammaness. Now look how different is the gammaness distribution for protons:"
   ]
  },
  {
   "cell_type": "code",
   "execution_count": null,
   "metadata": {},
   "outputs": [],
   "source": [
    "x=np.array(background_table['true_energy'].value)\n",
    "y=np.array(background_table['gammaness'].value)\n",
    "plt.figure()\n",
    "y_space = np.linspace(0, 1, 30)\n",
    "x_space = np.logspace(-2, 3, 60)\n",
    "plt.xscale(\"log\")\n",
    "plt.xlabel(\"True energy of the simulated protons [TeV]\")\n",
    "plt.ylabel(\"Gammaness\")\n",
    "plt.hist2d(x,y, bins=(x_space, y_space),  norm=mpl.colors.LogNorm())\n",
    "plt.colorbar(label=\"Number of events\")\n",
    "plt.title(\"Simulated protons\")"
   ]
  },
  {
   "cell_type": "markdown",
   "metadata": {},
   "source": [
    "This means that protons and $\\gamma$ rays are quite well distinguished by our classification algorithm.\n",
    "\n",
    "\n",
    "### Migration matrix\n",
    "\n",
    "Now let's check the quality of our energy reconstruction, plotting a migration matrix. If the reconstruction process is well trained, the reconstructed energy of the $\\gamma$ rays must be very similar to the true (simulated) energy of the simulated photons, i.e., the events must fall in a narrow region where renconstructed_energy = true_energy."
   ]
  },
  {
   "cell_type": "code",
   "execution_count": null,
   "metadata": {
    "scrolled": false
   },
   "outputs": [],
   "source": [
    "x=np.array(signal_table['reco_energy'].value)\n",
    "y=np.array(signal_table['true_energy'].value)\n",
    "plt.figure()\n",
    "y_space = np.logspace(-2, 3, 60)\n",
    "x_space = np.logspace(-2, 3, 60)\n",
    "plt.xscale(\"log\")\n",
    "plt.yscale(\"log\")\n",
    "plt.xlabel(\"Reconstructed energy (TeV)\")\n",
    "plt.ylabel(\"True energy of the simulated photon (TeV)\")\n",
    "plt.hist2d(x,y, bins=(x_space, y_space),  norm=mpl.colors.LogNorm())\n",
    "plt.annotate(\"\",\n",
    "              xy=(0.01,0.01), xycoords='data',\n",
    "              xytext=(110,110), textcoords='data',\n",
    "              arrowprops=dict(arrowstyle=\"-\",\n",
    "                              connectionstyle=\"arc3,rad=0.\"), \n",
    "              )\n",
    "plt.colorbar(label=\"Number of events\")"
   ]
  },
  {
   "cell_type": "markdown",
   "metadata": {},
   "source": [
    "### Check the reconstructed energy distributions\n",
    "\n",
    "Let's check the distribution of reconstructed energies for the $\\gamma$ rays and the protons."
   ]
  },
  {
   "cell_type": "code",
   "execution_count": null,
   "metadata": {},
   "outputs": [],
   "source": [
    "energy_bins_center = (energy_bins[:-1] + energy_bins[1:]) / 2\n",
    "\n",
    "energy_bins_width = [\n",
    "    energy_bins[1:] - energy_bins_center,\n",
    "    energy_bins_center - energy_bins[:-1],\n",
    "]\n",
    "plt.figure()\n",
    "plt.xlabel(\"Reconstructed energy [TeV]\")\n",
    "plt.ylabel(\"Number of events\")\n",
    "plt.semilogx()\n",
    "plt.yscale(\"log\")\n",
    "plt.grid()\n",
    "E_back=np.array(background_table[\"reco_energy\"].value)\n",
    "E_sig=np.array(signal_table[\"reco_energy\"].value)\n",
    "\n",
    "# Plot the background energy distribution\n",
    "plt.hist(\n",
    "    E_back,\n",
    "    bins=energy_bins,\n",
    "    label=\"protons\",\n",
    "    histtype=\"step\",\n",
    "    linewidth=3,\n",
    ")\n",
    "\n",
    "# Plot the signal energy distribution\n",
    "plt.hist(\n",
    "    E_sig,\n",
    "    bins=energy_bins,\n",
    "    label=\"gammas\",\n",
    "    histtype=\"step\",\n",
    "    linewidth=3,\n",
    ")\n",
    "\n",
    "plt.legend()"
   ]
  },
  {
   "cell_type": "markdown",
   "metadata": {},
   "source": [
    "### Check the gammaness distributions:\n",
    "\n",
    "Let's do the same for the gammaness distributions: the MC gamma-ray distribution must peak in 1, while the proton distribution must peak in 0."
   ]
  },
  {
   "cell_type": "code",
   "execution_count": null,
   "metadata": {
    "scrolled": false
   },
   "outputs": [],
   "source": [
    "gh_bins = np.linspace(0, 1, 51)\n",
    "\n",
    "plt.figure(dpi=70)\n",
    "plt.xlabel(\"Gammaness\")\n",
    "plt.ylabel(\"Number of events\")\n",
    "plt.yscale(\"log\")\n",
    "plt.grid()\n",
    "g_back=np.array(background_table[\"gammaness\"].value)\n",
    "g_sig=np.array(signal_table[\"gammaness\"].value)\n",
    "\n",
    "#Plot the background gammaness distribution\n",
    "plt.hist(\n",
    "    g_back,\n",
    "    bins=gh_bins,\n",
    "    label=\"protons (background)\",\n",
    "    histtype=\"step\",\n",
    "    linewidth=2,\n",
    ")\n",
    "\n",
    "# Plot the signal gammaness distribution\n",
    "plt.hist(\n",
    "    g_sig,\n",
    "    bins=gh_bins,\n",
    "    label=\"gammas (signal)\",\n",
    "    histtype=\"step\",\n",
    "    linewidth=2,\n",
    ")\n",
    "\n",
    "plt.legend(loc=\"upper left\")\n"
   ]
  },
  {
   "cell_type": "markdown",
   "metadata": {},
   "source": [
    "Here it is worth to notice that the gammaness increases for higher energies in the case of $\\gamma$ rays, while it decreases for the protons, such that the discrimination between the two types of events is easier at higher energies.\n",
    "\n",
    "Let's do the same for different energy ranges:"
   ]
  },
  {
   "cell_type": "code",
   "execution_count": null,
   "metadata": {
    "scrolled": false
   },
   "outputs": [],
   "source": [
    "n_columns = 3\n",
    "n_rows = int(np.ceil(len(energy_bins[:-1]) / n_columns))\n",
    "\n",
    "grid = (n_rows, n_columns)\n",
    "locs = list(itertools.product(range(n_rows), range(n_columns)))\n",
    "\n",
    "plt.figure(figsize=(20, n_rows * 8))\n",
    "\n",
    "# Loop over every energy bin\n",
    "for i_bin, (eng_lolim, eng_uplim) in enumerate(zip(energy_bins[:-1], energy_bins[1:])):\n",
    "\n",
    "    plt.subplot2grid(grid, locs[i_bin])\n",
    "    plt.title(f\"{eng_lolim:.3f} < energy < {eng_uplim:.3f} [TeV]\", fontsize=20)\n",
    "    plt.xlabel(\"Gammaness\", fontsize=22)\n",
    "    plt.yscale(\"log\")\n",
    "    plt.grid()\n",
    "\n",
    "    # Apply the energy cuts\n",
    "    cond_back_lolim = background_table[\"reco_energy\"].value > eng_lolim\n",
    "    cond_back_uplim = background_table[\"reco_energy\"].value < eng_uplim\n",
    "\n",
    "    cond_signal_lolim = signal_table[\"reco_energy\"].value > eng_lolim\n",
    "    cond_signal_uplim = signal_table[\"reco_energy\"].value < eng_uplim\n",
    "\n",
    "    condition_back = np.logical_and(cond_back_lolim, cond_back_uplim)\n",
    "    condition_signal = np.logical_and(cond_signal_lolim, cond_signal_uplim)\n",
    "\n",
    "    dt_back = background_table[condition_back]\n",
    "    dt_signal = signal_table[condition_signal]\n",
    "\n",
    "    # Plot the background gammaness distribution\n",
    "    if len(dt_back) > 0:\n",
    "        plt.hist(\n",
    "             dt_back[\"gammaness\"].value,\n",
    "             bins=gh_bins,\n",
    "             label=\"background\",\n",
    "             histtype=\"step\",\n",
    "             linewidth=2,\n",
    "       )\n",
    "\n",
    "    # Plot the signal gammaness distribution\n",
    "    if len(dt_signal) > 0:\n",
    "        plt.hist(\n",
    "            dt_signal[\"gammaness\"].value,\n",
    "            bins=gh_bins,\n",
    "            label=\"signal\",\n",
    "            histtype=\"step\",\n",
    "            linewidth=2,\n",
    "        )\n",
    "\n",
    "    plt.legend(loc=\"lower left\")\n"
   ]
  },
  {
   "cell_type": "markdown",
   "metadata": {},
   "source": [
    "### Apply dynamic gammaness cuts:\n",
    "\n",
    "Now we use the function `calculate_percentile_cut()` from the module `pyirf` to evaluate dynamic (i.e. energy dependent) gammaness cuts such that we hava a gamma efficiency of 90% (i.e.: 90% of the $\\gamma$ rays are kept) in each energy bin. This is the simplest and most robust way to define the gammeness cuts."
   ]
  },
  {
   "cell_type": "code",
   "execution_count": null,
   "metadata": {
    "scrolled": true
   },
   "outputs": [],
   "source": [
    "gh_efficiency = 0.9\n",
    "gh_percentile = 100 * (1 - gh_efficiency)\n",
    "\n",
    "\n",
    "# Calculate the dynamic gammaness cuts\n",
    "gh_table_eff = calculate_percentile_cut(\n",
    "    values=signal_table[\"gammaness\"],\n",
    "    bin_values=signal_table[\"reco_energy\"],\n",
    "    bins=u.Quantity(energy_bins, u.TeV),\n",
    "    fill_value=0.0,\n",
    "    percentile=gh_percentile,\n",
    ")\n",
    "\n",
    "gh_cuts_eff = gh_table_eff[\"cut\"].value\n",
    "print(f\"Energy bins: {energy_bins}\")\n",
    "print(f\"Efficiency gammaness cuts:\\n{gh_cuts_eff}\")"
   ]
  },
  {
   "cell_type": "markdown",
   "metadata": {},
   "source": [
    "Gammaness cuts' plot: as expected from the gammaness distributions shown above, the cut value increases for higher energies. The fall above 10 TeV, however, happens due to low statistics."
   ]
  },
  {
   "cell_type": "code",
   "execution_count": null,
   "metadata": {
    "scrolled": false
   },
   "outputs": [],
   "source": [
    "plt.figure(dpi=70)\n",
    "plt.xlabel(\"Reconstructed energy [TeV]\")\n",
    "plt.ylabel(\"Gammaness cut that saves 90% of the gamma rays\")\n",
    "plt.semilogx()\n",
    "plt.grid()\n",
    "\n",
    "# Plot the dynamic gammaness cuts\n",
    "plt.errorbar(\n",
    "    x=energy_bins_center,\n",
    "    y=gh_cuts_eff,\n",
    "    xerr=energy_bins_width,\n",
    "    label=\"gamma efficiency\",\n",
    "    marker=\"o\",\n",
    ")"
   ]
  },
  {
   "cell_type": "markdown",
   "metadata": {},
   "source": [
    "Now we apply these gammaness cuts to our datasets, such that we end up with a relatively pure sample of $\\gamma$-rays."
   ]
  },
  {
   "cell_type": "code",
   "execution_count": null,
   "metadata": {},
   "outputs": [],
   "source": [
    "print(\"\\nApplying the gammaness cuts...\")\n",
    "\n",
    "mask_gh_eff = evaluate_binned_cut(\n",
    "    values=signal_table[\"gammaness\"],\n",
    "    bin_values=signal_table[\"reco_energy\"],\n",
    "    cut_table=gh_table_eff,\n",
    "    op=operator.ge,\n",
    ")\n",
    "\n",
    "data_eff_gcut = signal_table[mask_gh_eff]\n",
    "print(f\"--> Number of events: {len(data_eff_gcut)}\")\n",
    "\n",
    "#Applying the same cuts to the all zenith angle samples.\n",
    "\n",
    "mask_gh_eff_26 = evaluate_binned_cut(\n",
    "    values=signal_table_6_26[\"gammaness\"],\n",
    "    bin_values=signal_table_6_26[\"reco_energy\"],\n",
    "    cut_table=gh_table_eff,\n",
    "    op=operator.ge,\n",
    ")\n",
    "\n",
    "data_eff_gcut_26 = signal_table_6_26[mask_gh_eff_26]\n",
    "  \n",
    "    \n",
    "mask_gh_eff_46 = evaluate_binned_cut(\n",
    "    values=signal_table_26_46[\"gammaness\"],\n",
    "    bin_values=signal_table_26_46[\"reco_energy\"],\n",
    "    cut_table=gh_table_eff,\n",
    "    op=operator.ge,\n",
    ")\n",
    "\n",
    "data_eff_gcut_46 = signal_table_26_46[mask_gh_eff_46]\n",
    "\n",
    "mask_gh_eff_67 = evaluate_binned_cut(\n",
    "    values=signal_table_46_67[\"gammaness\"],\n",
    "    bin_values=signal_table_46_67[\"reco_energy\"],\n",
    "    cut_table=gh_table_eff,\n",
    "    op=operator.ge,\n",
    ")\n",
    "\n",
    "data_eff_gcut_67 = signal_table_46_67[mask_gh_eff_67]"
   ]
  },
  {
   "cell_type": "markdown",
   "metadata": {},
   "source": [
    "### Check the quality of the reconstructed direction:\n",
    "\n",
    "We look at the $\\theta^2$ distribution. Don't forget that $\\theta$ is the offset angle between the real position of the target and the reconstructed position for a single event, as in the figure below:\n",
    "\n",
    "![theta](./figures/theta.png)\n"
   ]
  },
  {
   "cell_type": "code",
   "execution_count": null,
   "metadata": {
    "scrolled": false
   },
   "outputs": [],
   "source": [
    "theta2_bins = np.linspace(0, 0.5, 91)\n",
    "\n",
    "plt.figure(dpi=70)\n",
    "plt.title(f\"g/h efficiency = {gh_efficiency}\")\n",
    "plt.xlabel(r\"$\\theta^2$ [deg$^2$]\")\n",
    "plt.ylabel(\"Number of events\")\n",
    "plt.yscale(\"log\")\n",
    "plt.grid()\n",
    "\n",
    "eff_gcut=np.array(data_eff_gcut[\"theta\"].value)\n",
    "\n",
    "# Plot the signal theta2 distribution\n",
    "plt.hist(\n",
    "    np.square(eff_gcut),\n",
    "    bins=theta2_bins,\n",
    "    label=\"signal\",\n",
    "    histtype=\"step\",\n",
    "    linewidth=2,\n",
    ")\n",
    "\n",
    "plt.legend()"
   ]
  },
  {
   "cell_type": "markdown",
   "metadata": {},
   "source": [
    "Let's do the same for different energy bins. We see that the higher the energy, the better is the reconstructed direction."
   ]
  },
  {
   "cell_type": "code",
   "execution_count": null,
   "metadata": {
    "scrolled": false
   },
   "outputs": [],
   "source": [
    "n_columns = 3\n",
    "n_rows = int(np.ceil(len(energy_bins[:-1]) / n_columns))\n",
    "\n",
    "grid = (n_rows, n_columns)\n",
    "locs = list(itertools.product(range(n_rows), range(n_columns)))\n",
    "\n",
    "plt.figure(figsize=(20, n_rows * 8))\n",
    "\n",
    "# Loop over every energy bin\n",
    "for i_bin, (eng_lolim, eng_uplim) in enumerate(zip(energy_bins[:-1], energy_bins[1:])):\n",
    "\n",
    "    plt.subplot2grid(grid, locs[i_bin])\n",
    "    plt.title(f\"{eng_lolim:.3f} < energy < {eng_uplim:.3f} [TeV]\")\n",
    "    plt.xlabel(\"Theta2 [deg$^2$]\")\n",
    "    plt.yscale(\"log\")\n",
    "    plt.grid()\n",
    "\n",
    "    # Apply the energy cuts\n",
    "    cond_eff_lolim = data_eff_gcut[\"reco_energy\"].value > eng_lolim\n",
    "    cond_eff_uplim = data_eff_gcut[\"reco_energy\"].value < eng_uplim\n",
    "\n",
    "    \n",
    "    \n",
    "    condition_eff = np.logical_and(cond_eff_lolim, cond_eff_uplim)\n",
    "\n",
    "    \n",
    "    dt_eff = data_eff_gcut[condition_eff]\n",
    "    dte=np.array(dt_eff[\"theta\"].value)\n",
    "    \n",
    "    # Plot the theta2 distribution\n",
    "    if len(dt_eff) > 0:\n",
    "        plt.hist(\n",
    "            np.square(dte),\n",
    "            bins=theta2_bins,\n",
    "            label=\"signal\",\n",
    "            histtype=\"step\",\n",
    "            linewidth=2,\n",
    "        )\n",
    "\n",
    "    plt.legend(loc=\"upper right\")\n"
   ]
  },
  {
   "cell_type": "markdown",
   "metadata": {},
   "source": [
    "### Check the angular resolution:\n",
    "\n",
    "We now use the `angular_resolution()` function from `pyirf` to evaluate the angular resolution, which is defined as the $\\theta$ value which encloses 68% of the events. "
   ]
  },
  {
   "cell_type": "code",
   "execution_count": null,
   "metadata": {},
   "outputs": [],
   "source": [
    "# Calculate the angular resolution\n",
    "angres_table_eff = angular_resolution(\n",
    "    data_eff_gcut, u.Quantity(energy_bins, u.TeV), energy_type=\"reco\"\n",
    ")\n",
    "\n",
    "angres_eff = angres_table_eff[\"angular_resolution\"].value\n",
    "print(f\"\\n angular resolution:\\n{angres_eff} deg\")"
   ]
  },
  {
   "cell_type": "code",
   "execution_count": null,
   "metadata": {},
   "outputs": [],
   "source": [
    "plt.figure(dpi=70)\n",
    "gs = gridspec.GridSpec(4, 1)\n",
    "\n",
    "plt.title(f\"angular resolution(g/h efficiency = {100*gh_efficiency}%)\")\n",
    "plt.ylabel(\"Angular resolution (68% cont.) [deg]\")\n",
    "plt.xlabel(\"Energy [TeV]\")\n",
    "plt.semilogx()\n",
    "plt.grid()\n",
    "\n",
    "# Plot the angular resolution\n",
    "plt.errorbar(\n",
    "    x=energy_bins_center,\n",
    "    y=angres_eff,\n",
    "    xerr=energy_bins_width,\n",
    "    label=\"signal\",\n",
    "    marker=\"o\",\n",
    ")\n",
    "\n",
    "\n",
    "plt.legend()"
   ]
  },
  {
   "cell_type": "markdown",
   "metadata": {},
   "source": [
    "### Applying dynamic $\\theta$ cuts to the data\n",
    "\n",
    "Similar to what we did for the dynamic gammaness above, here we find the value of $\\theta$ that contains 68% (or 80%, for comparison) of the photons at each energy bin, what we call dynamic $\\theta$ cut."
   ]
  },
  {
   "cell_type": "code",
   "execution_count": null,
   "metadata": {},
   "outputs": [],
   "source": [
    "theta_efficiency = 0.8\n",
    "theta_efficiency_68=0.68\n",
    "\n",
    "theta_percentile = 100 * theta_efficiency\n",
    "theta_percentile_68 = 100 * theta_efficiency_68\n",
    "\n",
    "\n",
    "# Calculate the dynamic theta cuts\n",
    "theta_table_eff = calculate_percentile_cut(\n",
    "    values=data_eff_gcut[\"theta\"],\n",
    "    bin_values=data_eff_gcut[\"reco_energy\"],\n",
    "    bins=u.Quantity(energy_bins, u.TeV),\n",
    "    fill_value=data_eff_gcut[\"theta\"].unmasked.max(),\n",
    "    percentile=theta_percentile,\n",
    ")\n",
    "theta_table_eff_68= calculate_percentile_cut(\n",
    "    values=data_eff_gcut[\"theta\"],\n",
    "    bin_values=data_eff_gcut[\"reco_energy\"],\n",
    "    bins=u.Quantity(energy_bins, u.TeV),\n",
    "    fill_value=data_eff_gcut[\"theta\"].unmasked.max(),\n",
    "    percentile=theta_percentile_68,\n",
    ")\n",
    "\n",
    "theta_cuts_eff = theta_table_eff[\"cut\"]\n",
    "theta_cuts_eff_68 = theta_table_eff_68[\"cut\"]\n",
    "\n",
    "theta_cut_eff = theta_table_eff[\"cut\"].value\n",
    "theta_cut_eff_68 = theta_table_eff_68[\"cut\"].value\n",
    "\n",
    "plt.figure(dpi=70)\n",
    "plt.title(f\"theta cuts (g/h eff. = {gh_efficiency})\")\n",
    "plt.xlabel(\"Reconstructed energy [TeV]\")\n",
    "plt.ylabel(r\"Cut in $\\theta$ [deg]\")\n",
    "plt.semilogx()\n",
    "plt.grid()\n",
    "\n",
    "# Plot the 68% dynamic theta cuts\n",
    "plt.errorbar(\n",
    "    x=energy_bins_center,\n",
    "    y=theta_cuts_eff_68,\n",
    "    xerr=energy_bins_width,\n",
    "    label=\"68%\",\n",
    "    marker=\"o\",\n",
    ")\n",
    "\n",
    "# Plot the 80% dynamic theta cuts\n",
    "plt.errorbar(\n",
    "    x=energy_bins_center,\n",
    "    y=theta_cuts_eff,\n",
    "    xerr=energy_bins_width,\n",
    "    label=\"80%\",\n",
    "    marker=\"o\",\n",
    ")\n",
    "\n",
    "plt.ylim(0.05,0.23)\n",
    "plt.legend(loc=\"upper right\")"
   ]
  },
  {
   "cell_type": "markdown",
   "metadata": {},
   "source": [
    "We now apply another filter in our data by selecting only the $\\gamma$ rays lying within the 80% $\\theta$ cuts (i.e. a bit larger than the angular resolution). Remember that these cuts are listed in the table `theta_table_eff` computed above."
   ]
  },
  {
   "cell_type": "code",
   "execution_count": null,
   "metadata": {},
   "outputs": [],
   "source": [
    "# Apply dynamic theta cuts\n",
    "print(\"\\nApplying the theta cuts to signal...\")\n",
    "\n",
    "mask_theta_eff = evaluate_binned_cut(\n",
    "    values=data_eff_gcut[\"theta\"],\n",
    "    bin_values=data_eff_gcut[\"reco_energy\"],\n",
    "    cut_table=theta_table_eff,\n",
    "    op=operator.le,\n",
    ")\n",
    "\n",
    "data_eff_gtcuts = data_eff_gcut[mask_theta_eff]\n",
    "print(f\"--> Number of events: {len(data_eff_gtcuts)}\")"
   ]
  },
  {
   "cell_type": "code",
   "execution_count": null,
   "metadata": {},
   "outputs": [],
   "source": [
    "# Apply dynamic theta cuts\n",
    "print(\"\\nApplying the theta cuts to signal...\")\n",
    "\n",
    "mask_theta_eff_26 = evaluate_binned_cut(\n",
    "    values=data_eff_gcut_26[\"theta\"],\n",
    "    bin_values=data_eff_gcut_26[\"reco_energy\"],\n",
    "    cut_table=theta_table_eff,\n",
    "    op=operator.le,\n",
    ")\n",
    "\n",
    "data_eff_gtcuts_26 = data_eff_gcut_26[mask_theta_eff_26]\n",
    "print(f\"--> Number of events: {len(data_eff_gtcuts_26)}\")"
   ]
  },
  {
   "cell_type": "code",
   "execution_count": null,
   "metadata": {},
   "outputs": [],
   "source": [
    "# Apply dynamic theta cuts\n",
    "print(\"\\nApplying the theta cuts to signal...\")\n",
    "\n",
    "mask_theta_eff_46 = evaluate_binned_cut(\n",
    "    values=data_eff_gcut_46[\"theta\"],\n",
    "    bin_values=data_eff_gcut_46[\"reco_energy\"],\n",
    "    cut_table=theta_table_eff,\n",
    "    op=operator.le,\n",
    ")\n",
    "\n",
    "data_eff_gtcuts_46 = data_eff_gcut_46[mask_theta_eff_46]\n",
    "print(f\"--> Number of events: {len(data_eff_gtcuts_46)}\")"
   ]
  },
  {
   "cell_type": "code",
   "execution_count": null,
   "metadata": {},
   "outputs": [],
   "source": [
    "# Apply dynamic theta cuts\n",
    "print(\"\\nApplying the theta cuts to signal...\")\n",
    "\n",
    "mask_theta_eff_67 = evaluate_binned_cut(\n",
    "    values=data_eff_gcut_67[\"theta\"],\n",
    "    bin_values=data_eff_gcut_67[\"reco_energy\"],\n",
    "    cut_table=theta_table_eff,\n",
    "    op=operator.le,\n",
    ")\n",
    "\n",
    "data_eff_gtcuts_67 = data_eff_gcut_67[mask_theta_eff_67]\n",
    "print(f\"--> Number of events: {len(data_eff_gtcuts_67)}\")"
   ]
  },
  {
   "cell_type": "markdown",
   "metadata": {},
   "source": [
    "### Check the effective area\n",
    "\n",
    "The effective area depends on zenith and azimuth angles. Below we compute the effective area in terms of reconstructed energy for the three different zenith regions defined above in the sections **Load MC DL2 data files** and **Apply dynamic $\\theta$ cuts to the angular resolution**.\n",
    "\n",
    "Given the dependency on azimuth, we must provide a narrow range of azimuths in an interval no larger than ~$30^{\\circ}$.\n",
    "\n",
    "The effective areas are calculated using pyirf function: `effective_area_per_energy`"
   ]
  },
  {
   "cell_type": "code",
   "execution_count": null,
   "metadata": {},
   "outputs": [],
   "source": [
    "# Calculate the low zenith effective area\n",
    "aeff_eff_26 = effective_area_per_energy(\n",
    "    selected_events=data_eff_gtcuts_26,\n",
    "    simulation_info=sig_sim_config,\n",
    "    true_energy_bins=u.Quantity(energy_bins, u.TeV),\n",
    ")\n",
    "\n",
    "# Calculate the mid zenith effective area\n",
    "aeff_eff_46 = effective_area_per_energy(\n",
    "    selected_events=data_eff_gtcuts_46,\n",
    "    simulation_info=sig_sim_config,\n",
    "    true_energy_bins=u.Quantity(energy_bins, u.TeV),\n",
    ")\n",
    "\n",
    "# Calculate the high zenith effective area\n",
    "aeff_eff_67 = effective_area_per_energy(\n",
    "    selected_events=data_eff_gtcuts_67,\n",
    "    simulation_info=sig_sim_config,\n",
    "    true_energy_bins=u.Quantity(energy_bins, u.TeV),\n",
    ")\n"
   ]
  },
  {
   "cell_type": "markdown",
   "metadata": {},
   "source": [
    "Below we plot the effective areas as a function of the true energy. The samples divided in zenith angle bins include events from a different azimuth within a ~$30^o$ range."
   ]
  },
  {
   "cell_type": "code",
   "execution_count": null,
   "metadata": {},
   "outputs": [],
   "source": [
    "plt.figure()\n",
    "plt.title(f\"g/h eff. = {100*gh_efficiency}%, theta eff. = {100*theta_efficiency}%\")\n",
    "plt.xlabel(\"True energy [TeV]\")\n",
    "plt.ylabel(\"Effective area [m$^2$]\")\n",
    "plt.loglog()\n",
    "plt.grid()\n",
    "\n",
    "\n",
    "# Plot the effective area\n",
    "plt.errorbar(\n",
    "    x=energy_bins_center,\n",
    "    y=aeff_eff_26.value,\n",
    "    xerr=energy_bins_width,\n",
    "    label=\"zenith < 26$^{\\circ}$\",\n",
    "    marker=\"o\",\n",
    ")\n",
    "\n",
    "\n",
    "# Plot the effective area\n",
    "plt.errorbar(\n",
    "    x=energy_bins_center,\n",
    "    y=aeff_eff_46.value,\n",
    "    xerr=energy_bins_width,\n",
    "    label=\"26$^{\\circ}$ < zenith < 46$^{\\circ}$\",\n",
    "    marker=\"o\",\n",
    ")\n",
    "\n",
    "# Plot the effective area\n",
    "plt.errorbar(\n",
    "    x=energy_bins_center,\n",
    "    y=aeff_eff_67.value,\n",
    "    xerr=energy_bins_width,\n",
    "    label=\"46$^{\\circ}$ < zenith < 67$^{\\circ}$\",\n",
    "    marker=\"o\",\n",
    ")\n",
    "\n",
    "plt.legend(loc=\"lower right\")\n"
   ]
  },
  {
   "cell_type": "markdown",
   "metadata": {},
   "source": [
    "We see that, as expected, for higher energies the effective area increases with zenith angle while the enrgy threshold increases. This happens because, at high zenith angles, the size of the shower pool on ground becomes very large. Illustration from (Aharonian & Casanova, 2018).\n",
    "\n",
    "\n",
    "![pool](./figures/pool.png)"
   ]
  },
  {
   "cell_type": "markdown",
   "metadata": {},
   "source": [
    "### Check the energy bias and energy resolution\n",
    "\n",
    "The energy bias and resolution are computed from the $(E_{rec} - E_{true})/E_{true}$ distribution by the pyIRF function: `energy_bias_resolution`."
   ]
  },
  {
   "cell_type": "code",
   "execution_count": null,
   "metadata": {},
   "outputs": [],
   "source": [
    "# Calculate the energy bias and resolution\n",
    "eneres_table_eff = energy_bias_resolution(\n",
    "    data_eff_gtcuts, u.Quantity(energy_bins, u.TeV), energy_type=\"reco\"\n",
    ")\n",
    "\n",
    "enebias_eff = eneres_table_eff[\"bias\"].value\n",
    "eneres_eff = eneres_table_eff[\"resolution\"].value\n",
    "\n",
    "plt.figure()\n",
    "gs = gridspec.GridSpec(4, 1)\n",
    "\n",
    "plt.title(f\"Energy bias and energy resolution(g/h eff. = {100*gh_efficiency}%, theta eff. = {100*theta_efficiency}%)\")\n",
    "plt.ylabel(\"Energy bias and resolution\")\n",
    "plt.xlabel(\"Reconstructed energy [TeV]\")\n",
    "\n",
    "plt.semilogx()\n",
    "plt.grid()\n",
    "\n",
    "# Plot the energy bias and resolution\n",
    "plt.errorbar(\n",
    "    x=energy_bins_center,\n",
    "    y=eneres_eff,\n",
    "    xerr=energy_bins_width,\n",
    "    label=\"Energy resolution\",\n",
    "    marker=\"o\",\n",
    "    color=colors[1],\n",
    ")\n",
    "\n",
    "plt.errorbar(\n",
    "    x=energy_bins_center,\n",
    "    y=enebias_eff,\n",
    "    xerr=energy_bins_width,\n",
    "    label=\"Energy bias\",\n",
    "    marker=\"o\",\n",
    "    linestyle=\"--\",\n",
    "    color=colors[1],\n",
    ")\n",
    "\n",
    "plt.legend()"
   ]
  },
  {
   "cell_type": "markdown",
   "metadata": {},
   "source": [
    "### Effects on background and signal\n",
    "\n",
    "To finish this class, let's do some diagnostic plots to see the effects of the cuts on the background and the signal distributions. Below we plot the distribution of events in terms of reconstructed energy for different values of efficiency (90% gammaness cut) and $\\theta$ cuts (i.e. 68% and 80%). We see that the cuts filter most of the background while the signal survives."
   ]
  },
  {
   "cell_type": "code",
   "execution_count": null,
   "metadata": {},
   "outputs": [],
   "source": [
    "#gammaness cut\n",
    "back_gn_cut_eff=QTable()\n",
    "for i_bin, (eng_lo, eng_hi) in enumerate(zip(energy_bins[:-1], energy_bins[1:])):\n",
    "    \n",
    "    mask_table_eff=(background_table[\"reco_energy\"].value >np.repeat(eng_lo,(len(background_table)))) \\\n",
    "        & (background_table[\"reco_energy\"].value <np.repeat(eng_hi,(len(background_table)))) \\\n",
    "            & (background_table[\"gammaness\"].value>np.repeat(gh_table_eff['cut'][i_bin],(len(background_table))))\n",
    "    \n",
    "    back_masked_gn_eff=background_table[mask_table_eff]\n",
    "    back_gn_cut_eff=vstack([back_masked_gn_eff,back_gn_cut_eff])\n",
    "    \n",
    "\n",
    "#theta 68%,eff: adding the theta68 cut after the gammaness cut\n",
    "back_theta_cut_eff_68=QTable()\n",
    "for i_bin, (eng_lo, eng_hi) in enumerate(zip(energy_bins[:-1], energy_bins[1:])):\n",
    "    \n",
    "    mask_table_theta_eff_68=(back_gn_cut_eff[\"reco_energy\"].value >np.repeat(eng_lo,(len(back_gn_cut_eff)))) \\\n",
    "        & (back_gn_cut_eff[\"reco_energy\"].value <np.repeat(eng_hi,(len(back_gn_cut_eff)))) \\\n",
    "            & (back_gn_cut_eff[\"theta\"].value < np.repeat(theta_cut_eff_68[i_bin],(len(back_gn_cut_eff))))\n",
    "    \n",
    "    back_masked_theta_eff_68=back_gn_cut_eff[mask_table_theta_eff_68]\n",
    "    back_theta_cut_eff_68=vstack([back_masked_theta_eff_68,back_theta_cut_eff_68])\n",
    "    \n",
    "#theta 80%,eff: adding the theta80 cut after the gammaness cut\n",
    "back_theta_cut_eff_80=QTable()\n",
    "for i_bin, (eng_lo, eng_hi) in enumerate(zip(energy_bins[:-1], energy_bins[1:])):\n",
    "    \n",
    "    mask_table_theta_eff_80=(back_gn_cut_eff[\"reco_energy\"].value >np.repeat(eng_lo,(len(back_gn_cut_eff)))) \\\n",
    "        & (back_gn_cut_eff[\"reco_energy\"].value <np.repeat(eng_hi,(len(back_gn_cut_eff)))) \\\n",
    "            & (back_gn_cut_eff[\"theta\"].value < np.repeat(theta_cut_eff[i_bin],(len(back_gn_cut_eff))))\n",
    "    back_masked_theta_eff_80=back_gn_cut_eff[mask_table_theta_eff_80]\n",
    "    back_theta_cut_eff_80=vstack([back_masked_theta_eff_80,back_theta_cut_eff_80])\n",
    "\n",
    "#making the plots\n",
    "plt.figure(dpi=70)\n",
    "plt.title(\"background\")\n",
    "plt.xlabel(\"Reconstructed energy [TeV]\")\n",
    "plt.ylabel(\"Number of events\")\n",
    "plt.semilogx()\n",
    "plt.yscale(\"log\")\n",
    "plt.grid()\n",
    "\n",
    "theta_80_eff=np.array(back_theta_cut_eff_80[\"reco_energy\"].value)\n",
    "theta_68_eff=np.array(back_theta_cut_eff_68[\"reco_energy\"].value)\n",
    "gn_eff=np.array(back_gn_cut_eff[\"reco_energy\"].value)\n",
    "tot_back=np.array(background_table[\"reco_energy\"].value)\n",
    "\n",
    "#before cuts\n",
    "plt.hist(tot_back, bins=energy_bins, label=\"total\", histtype=\"step\", linewidth=3, color=\"b\")\n",
    "\n",
    "#gammaness cut\n",
    "plt.hist(gn_eff, bins=energy_bins, label=\"eff_cut\", histtype=\"step\", linewidth=3, color=\"y\")\n",
    "\n",
    "#gammaness + theta 80%, eff\n",
    "plt.hist(theta_80_eff, bins=energy_bins, label=\"eff_cut; theta_80\", histtype=\"step\", linewidth=3, color=\"c\")\n",
    "\n",
    "#gammaness + theta 68%, eff\n",
    "plt.hist(theta_68_eff, bins=energy_bins, label=\"eff_cut; theta_68\", histtype=\"step\", linewidth=3, color=\"k\")\n",
    "\n",
    "plt.legend()"
   ]
  },
  {
   "cell_type": "markdown",
   "metadata": {},
   "source": [
    "Now the same for the signal:"
   ]
  },
  {
   "cell_type": "code",
   "execution_count": null,
   "metadata": {},
   "outputs": [],
   "source": [
    "#gammaness cut\n",
    "sig_gn_cut_eff=QTable()\n",
    "for i_bin, (eng_lo, eng_hi) in enumerate(zip(energy_bins[:-1], energy_bins[1:])):\n",
    "    mask_E=np.logical_and((signal_table[\"reco_energy\"].value >np.repeat(eng_lo,(len(signal_table)))), \\\n",
    "        (signal_table[\"reco_energy\"].value <np.repeat(eng_hi,(len(signal_table)))))\n",
    "    mask_table_eff_sig=np.logical_and(mask_E,(signal_table[\"gammaness\"].value>np.repeat(gh_table_eff['cut'][i_bin],(len(signal_table)))))\n",
    "    \n",
    "    sig_masked_gn_eff=signal_table[mask_table_eff_sig]\n",
    "    sig_gn_cut_eff=vstack([sig_masked_gn_eff,sig_gn_cut_eff])\n",
    "    \n",
    "    \n",
    "#theta 68%,eff adding the theta68 cut after the gammaness cut\n",
    "sig_theta_cut_eff_68=QTable()\n",
    "for i_bin, (eng_lo, eng_hi) in enumerate(zip(energy_bins[:-1], energy_bins[1:])):\n",
    "    mask_table_theta_eff_68_sig=(sig_gn_cut_eff[\"reco_energy\"].value >np.repeat(eng_lo,(len(sig_gn_cut_eff)))) \\\n",
    "        & (sig_gn_cut_eff[\"reco_energy\"].value <np.repeat(eng_hi,(len(sig_gn_cut_eff)))) \\\n",
    "            & (sig_gn_cut_eff[\"theta\"].value<np.repeat(theta_cut_eff_68[i_bin],(len(sig_gn_cut_eff))))\n",
    "   \n",
    "    sig_masked_theta_eff_68=sig_gn_cut_eff[mask_table_theta_eff_68_sig]\n",
    "    sig_theta_cut_eff_68=vstack([sig_masked_theta_eff_68,sig_theta_cut_eff_68])\n",
    "\n",
    "    \n",
    "#theta 80%,eff adding the theta80 cut after the gammaness cut\n",
    "sig_theta_cut_eff_80=QTable()\n",
    "for i_bin, (eng_lo, eng_hi) in enumerate(zip(energy_bins[:-1], energy_bins[1:])):\n",
    "    \n",
    "    mask_table_theta_eff_80_sig=(sig_gn_cut_eff[\"reco_energy\"].value >np.repeat(eng_lo,(len(sig_gn_cut_eff)))) \\\n",
    "        & (sig_gn_cut_eff[\"reco_energy\"].value <np.repeat(eng_hi,(len(sig_gn_cut_eff)))) \\\n",
    "            & (sig_gn_cut_eff[\"theta\"].value<np.repeat(theta_cut_eff[i_bin],(len(sig_gn_cut_eff))))\n",
    "    sig_masked_theta_eff_80=sig_gn_cut_eff[mask_table_theta_eff_80_sig]\n",
    "    sig_theta_cut_eff_80=vstack([sig_masked_theta_eff_80,sig_theta_cut_eff_80])\n",
    "\n",
    "#making the plots    \n",
    "plt.figure(dpi=70)\n",
    "plt.title(\"signal\")\n",
    "plt.xlabel(\"Reconstructed energy [TeV]\")\n",
    "plt.ylabel(\"Number of events\")\n",
    "plt.semilogx()\n",
    "plt.yscale(\"log\")\n",
    "plt.grid()\n",
    "\n",
    "theta_80_eff_sig=np.array(sig_theta_cut_eff_80[\"reco_energy\"].value)\n",
    "theta_68_eff_sig=np.array(sig_theta_cut_eff_68[\"reco_energy\"].value)\n",
    "gn_eff_sig=np.array(sig_gn_cut_eff[\"reco_energy\"].value)\n",
    "sE=np.array(signal_table[\"reco_energy\"].value)\n",
    "\n",
    "# before cuts\n",
    "plt.hist(sE, bins=energy_bins, label=\"total\", histtype=\"step\", linewidth=3, color=\"b\")\n",
    "\n",
    "#gammaness cut\n",
    "plt.hist(gn_eff_sig, bins=energy_bins, label=\"eff_cut\", histtype=\"step\", linewidth=3, color=\"y\")\n",
    "\n",
    "#theta 80%, eff and gammaness cut\n",
    "plt.hist(theta_80_eff_sig, bins=energy_bins, label=\"eff_cut; theta_80\", histtype=\"step\", linewidth=3, color=\"c\")\n",
    "\n",
    "#theta 68%, eff and gammaness cut\n",
    "plt.hist(theta_68_eff_sig, bins=energy_bins, label=\"eff_cut; theta_68\", histtype=\"step\", linewidth=3, color=\"k\")\n",
    "\n",
    "plt.legend()"
   ]
  },
  {
   "cell_type": "code",
   "execution_count": null,
   "metadata": {},
   "outputs": [],
   "source": []
  }
 ],
 "metadata": {
  "kernelspec": {
   "display_name": "Python 3 (ipykernel)",
   "language": "python",
   "name": "python3"
  },
  "language_info": {
   "codemirror_mode": {
    "name": "ipython",
    "version": 3
   },
   "file_extension": ".py",
   "mimetype": "text/x-python",
   "name": "python",
   "nbconvert_exporter": "python",
   "pygments_lexer": "ipython3",
   "version": "3.9.16"
  }
 },
 "nbformat": 4,
 "nbformat_minor": 2
}

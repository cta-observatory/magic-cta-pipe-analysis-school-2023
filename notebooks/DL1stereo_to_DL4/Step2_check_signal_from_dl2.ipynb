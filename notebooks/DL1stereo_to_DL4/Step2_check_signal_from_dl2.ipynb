{
 "cells": [
  {
   "cell_type": "markdown",
   "id": "a4fa6f83",
   "metadata": {},
   "source": [
    "# Step 2: Looking at the Data Level 2\n",
    "\n",
    "\n",
    "In this notebook we will analyze Crab DL2 collected with MAGIC+LST1 in several nights scattered over 2020 and 2021. We will produce ($\\theta^2$) plots, will check the achieved angular resolution and will produce sky map. \n",
    "We will start, however, by taking a closer look into the data itself.\n",
    "\n",
    "\n",
    "### Let's start by loading some useful modules"
   ]
  },
  {
   "cell_type": "code",
   "execution_count": null,
   "id": "d68563c7",
   "metadata": {},
   "outputs": [],
   "source": [
    "import glob\n",
    "import itertools\n",
    "from pathlib import Path\n",
    "import numpy as np\n",
    "import pandas as pd\n",
    "from pyirf.benchmarks import angular_resolution\n",
    "from astropy import units as u\n",
    "from astropy.table import Table, QTable\n",
    "from astropy.coordinates import SkyCoord\n",
    "from gammapy.stats import WStatCountsStatistic\n",
    "from magicctapipe.io import get_dl2_mean, get_stereo_events\n",
    "from magicctapipe.utils import calculate_off_coordinates\n",
    "from matplotlib import pyplot as plt"
   ]
  },
  {
   "cell_type": "code",
   "execution_count": null,
   "id": "240c9fb2",
   "metadata": {},
   "outputs": [],
   "source": [
    "# Display all the columns of a pandas data frame\n",
    "pd.set_option(\"display.max_columns\", None)\n",
    "\n",
    "# Customize the pyplot figure\n",
    "plt.rcParams.update(\n",
    "    {\"figure.figsize\": (12, 9), \"font.size\": 15, \"grid.linestyle\": \"dotted\"}\n",
    ")\n",
    "\n",
    "# Get the pyplot default color cycle\n",
    "colors = plt.rcParams[\"axes.prop_cycle\"].by_key()[\"color\"]"
   ]
  },
  {
   "cell_type": "markdown",
   "id": "6e6c824d",
   "metadata": {},
   "source": [
    "### Load input DL2 data files (Crab observations)\n",
    "\n",
    "In this example we will explore the data from the directory /fefs/aswg/workspace/2023_joint_analysis_school /RFs_and_DL2/input/input_step_2/DL2-real/ \n",
    "Let's start by listing the input files with _glob_:"
   ]
  },
  {
   "cell_type": "code",
   "execution_count": null,
   "id": "f9f0bbe7",
   "metadata": {},
   "outputs": [],
   "source": [
    "#input_file_mask = '/fefs/aswg/workspace/2023_joint_analysis_school/RFs_and_DL2/input/input_step_2/DL2-real/*.h5'\n",
    "\n",
    "#larger statistics may create kernel problems...\n",
    "#input_file_mask = '/home/dipierr/data/software-school-2023/RFs_and_DL2/input/input_step_2/DL2-real/*.h5'\n",
    "\n",
    "#reduced statistics in case of kernel problems\n",
    "input_file_mask = '/home/dipierr/data/software-school-2023/RFs_and_DL2/input/input_step_2/DL2-real/*Run03*.h5'\n",
    "\n",
    "# Find the input files\n",
    "input_files = glob.glob(input_file_mask)\n",
    "input_files.sort()"
   ]
  },
  {
   "cell_type": "markdown",
   "id": "e44e2b28",
   "metadata": {},
   "source": [
    "Now let's read all of the data files and concatenate them in a single data frame `event_data`:"
   ]
  },
  {
   "cell_type": "code",
   "execution_count": null,
   "id": "bf2a65b2",
   "metadata": {},
   "outputs": [],
   "source": [
    "print(\"The following files are found:\")\n",
    "\n",
    "data_list = []\n",
    "\n",
    "for input_file in input_files:\n",
    "\n",
    "    print(Path(input_file).name)\n",
    "\n",
    "    # Load the input file\n",
    "    df_events = pd.read_hdf(input_file, key=\"events/parameters\")\n",
    "    data_list.append(df_events)\n",
    "\n",
    "event_data = pd.concat(data_list)\n",
    "event_data.set_index([\"obs_id\", \"event_id\", \"tel_id\"], inplace=True)\n",
    "event_data.sort_index(inplace=True)"
   ]
  },
  {
   "cell_type": "markdown",
   "id": "12953276",
   "metadata": {},
   "source": [
    "### Applying cuts\n",
    "Now let's apply a quality cut to the data packed in the table \"event_data\" and take a look at it. We see that most of the events are detected by all three telescopes. Note that the \"events\" here are real data (before any gammaness cut)."
   ]
  },
  {
   "cell_type": "code",
   "execution_count": null,
   "id": "28fefb12",
   "metadata": {},
   "outputs": [],
   "source": [
    "quality_cuts = f\"(disp_diff_mean < {np.sqrt(0.05)})\"\n",
    "\n",
    "# Apply the quality cuts\n",
    "print(f\"\\nQuality cuts: {quality_cuts}\")\n",
    "event_data = get_stereo_events(event_data, quality_cuts)"
   ]
  },
  {
   "cell_type": "markdown",
   "id": "f3cf70db",
   "metadata": {},
   "source": [
    "Now we could apply some other cuts, e.g. excluding the MAGIC-stereo combination events, since they could be poorly reconstructred."
   ]
  },
  {
   "cell_type": "code",
   "execution_count": null,
   "id": "e199a8f8",
   "metadata": {},
   "outputs": [],
   "source": [
    "print(\"Excluding the MAGIC-stereo combination events...\")\n",
    "event_data.query(\"combo_type != 0\", inplace=True)"
   ]
  },
  {
   "cell_type": "markdown",
   "id": "6211bb74",
   "metadata": {},
   "source": [
    "### Having a closer look to DL2 data\n",
    "Let's take a look at the table \"event_data\", so we understand better how DL2 looks like:"
   ]
  },
  {
   "cell_type": "code",
   "execution_count": null,
   "id": "cb05efe5",
   "metadata": {},
   "outputs": [],
   "source": [
    "# Show the data frame\n",
    "event_data.head()"
   ]
  },
  {
   "cell_type": "markdown",
   "id": "bc0433ab",
   "metadata": {},
   "source": [
    "Each event listed above has parameters from 2 or 3 telescopes. In the step below we compute the means over these DL2 parameters such that each event will be assigned with average parameters for the involved telescopes. Default option of the magicctapipe.io get_dl2_mean function is \"simple\"(i.e.: no weights)"
   ]
  },
  {
   "cell_type": "code",
   "execution_count": null,
   "id": "4ce40ed4",
   "metadata": {},
   "outputs": [],
   "source": [
    "print(\"Calculating mean DL2 parameters...\")\n",
    "event_data_mean = get_dl2_mean(event_data)\n",
    "\n",
    "# Show the data frame\n",
    "event_data_mean.head()"
   ]
  },
  {
   "cell_type": "markdown",
   "id": "f2bf2660",
   "metadata": {},
   "source": [
    "Now we use the function `np.diff()` to calculate the time difference between each consecutive event pair (timestamp) then sum up all of them to get the total observation time."
   ]
  },
  {
   "cell_type": "code",
   "execution_count": null,
   "id": "2a6a5843",
   "metadata": {},
   "outputs": [],
   "source": [
    "time_diffs = np.diff(event_data_mean[\"timestamp\"])\n",
    "obs_time = time_diffs[time_diffs < 1].sum() * u.s\n",
    "\n",
    "print(f\"Observation time: {obs_time.to('min'):.1f}\")"
   ]
  },
  {
   "cell_type": "markdown",
   "id": "aee70f3f",
   "metadata": {},
   "source": [
    "The timestamp is given in units of seconds, that is way in the table above it looks like all of the timestamps are the same, but obviously it is just the format they are printed..."
   ]
  },
  {
   "cell_type": "code",
   "execution_count": null,
   "id": "352d3dc3",
   "metadata": {},
   "outputs": [],
   "source": [
    "print(event_data_mean[\"timestamp\"].values[0])\n",
    "print(event_data_mean[\"timestamp\"].values[1])"
   ]
  },
  {
   "cell_type": "markdown",
   "id": "16f73450",
   "metadata": {},
   "source": [
    "### Defining ON and OFF regions\n",
    "\n",
    "In order to observe the target and the background at the same time, a common practice with IACTs is to misspoint the target by a wobble angle (typically 0.4$^{\\circ}$ with MAGIC) such that the target and the background points lie in the same \"ring\" in the camera, as shown in the figure (Archambault et al. 2017):\n",
    "\n",
    "![wobble](./figures/wobble_Archambault_2017.png)\n",
    "\n",
    "The region named \"ON\" is where our target, in this case the Crab Nebula, is. From now on, we will adopt 3 OFF regions that lie in the same camera ring. Let's set the ON-OFF coordinates of our target:"
   ]
  },
  {
   "cell_type": "code",
   "execution_count": null,
   "id": "34305ce2",
   "metadata": {},
   "outputs": [],
   "source": [
    "source_name = \"Crab\"\n",
    "n_regions_off = 3\n",
    "\n",
    "on_coord = SkyCoord.from_name(source_name, frame=\"icrs\")\n",
    "\n",
    "print(f\"ON coordinate ({source_name}):\")\n",
    "print(on_coord)\n",
    "\n",
    "#Let's also define a size to our sky map:\n",
    "xlim = on_coord.ra.to_value(\"deg\") + np.array([2, -2])\n",
    "ylim = on_coord.dec.to_value(\"deg\") + np.array([-2, 2])\n",
    "\n",
    "print(f\"\\nNumber of OFF regions: {n_regions_off}\")"
   ]
  },
  {
   "cell_type": "markdown",
   "id": "74e4990d",
   "metadata": {},
   "source": [
    "For each MAGIC-LST run we have a single observation ID and a single wobble. Below we do a loop over few runs and plot the corresponding ON-OFF regions and the center of the camera. "
   ]
  },
  {
   "cell_type": "code",
   "execution_count": null,
   "id": "e3c7c266",
   "metadata": {
    "scrolled": false
   },
   "outputs": [],
   "source": [
    "# Loop over observation IDs\n",
    "obs_ids = np.unique(event_data_mean.index.get_level_values(\"obs_id\"))\n",
    "\n",
    "#nrun_to_show=3\n",
    "#obs_ids_limited = [x for index, x in enumerate(obs_ids) if index < nrun_to_show]\n",
    "#for obs_id in obs_ids_limited:\n",
    "\n",
    "for obs_id in obs_ids:\n",
    "\n",
    "    print(f\"\\nObservation ID: {obs_id}\")\n",
    "    df_events = event_data_mean.query(f\"obs_id == {obs_id}\")\n",
    "\n",
    "    event_coords = SkyCoord(\n",
    "        u.Quantity(df_events[\"reco_ra\"], unit=\"deg\"),\n",
    "        u.Quantity(df_events[\"reco_dec\"], unit=\"deg\"),\n",
    "        frame=\"icrs\",\n",
    "    )\n",
    "\n",
    "    pnt_ra_mean = df_events[\"pointing_ra\"].mean() * u.deg\n",
    "    pnt_dec_mean = df_events[\"pointing_dec\"].mean() * u.deg\n",
    "\n",
    "    # Create a figure\n",
    "    plt.figure(figsize=(8, 8))\n",
    "    plt.title(f\"Observation ID: {obs_id}\")\n",
    "    plt.xlabel(\"RA [deg]\")\n",
    "    plt.ylabel(\"Dec [deg]\")\n",
    "    plt.xlim(xlim)\n",
    "    plt.ylim(ylim)\n",
    "    plt.grid()\n",
    "\n",
    "    # Plot the ON coordinate\n",
    "    plt.scatter(\n",
    "        on_coord.ra.to(\"deg\"), on_coord.dec.to(\"deg\"), label=\"ON\", marker=\"*\", s=400\n",
    "    )\n",
    "\n",
    "    # Plot the pointing direction\n",
    "    plt.scatter(\n",
    "        pnt_ra_mean, pnt_dec_mean, label=\"Camera center\", marker=\"o\", s=200, color=\"grey\"\n",
    "    )\n",
    "\n",
    "    # Calculate the angular distances from the ON region\n",
    "    theta_on = on_coord.separation(event_coords)\n",
    "    theta2_on = theta_on.to_value(\"deg\") ** 2\n",
    "\n",
    "    event_data_mean.loc[(obs_id, slice(None)), \"theta2_on\"] = theta2_on\n",
    "\n",
    "    # Calculate the OFF coordinates\n",
    "    off_coords = calculate_off_coordinates(\n",
    "        pointing_ra=pnt_ra_mean,\n",
    "        pointing_dec=pnt_dec_mean,\n",
    "        on_coord_ra=on_coord.ra,\n",
    "        on_coord_dec=on_coord.dec,\n",
    "        n_regions=n_regions_off,\n",
    "    )\n",
    "\n",
    "    # Loop over every OFF coordinate\n",
    "    print(\"\\nOFF coordinates:\")\n",
    "\n",
    "    for i_off, off_coord in off_coords.items():\n",
    "\n",
    "        print(off_coord)\n",
    "\n",
    "        # Calculate the angular distance from the OFF coordinate\n",
    "        theta_off = off_coord.separation(event_coords)\n",
    "        theta2_off = theta_off.to_value(\"deg\") ** 2\n",
    "\n",
    "        event_data_mean.loc[(obs_id, slice(None)), f\"theta2_off{i_off}\"] = theta2_off\n",
    "\n",
    "        # Plot the OFF coordinate\n",
    "        plt.scatter(\n",
    "            off_coord.ra.to(\"deg\"),\n",
    "            off_coord.dec.to(\"deg\"),\n",
    "            label=f\"OFF{i_off}\",\n",
    "            marker=\"x\",\n",
    "            s=200,\n",
    "            color=colors[i_off],\n",
    "        )\n",
    "\n",
    "    plt.legend()\n",
    "    plt.show()"
   ]
  },
  {
   "cell_type": "markdown",
   "id": "11f7299f",
   "metadata": {},
   "source": [
    "### Applying a rough selection of gammas and event type\n",
    "\n",
    "We now select only the events seen by all 3 telescopes and with a high  _gammaness_ score."
   ]
  },
  {
   "cell_type": "code",
   "execution_count": null,
   "id": "8cc01d78",
   "metadata": {},
   "outputs": [],
   "source": [
    "# Only events observed with all 3 telescopes:\n",
    "combo_types = [3] # You can play with different combinations, e.g. with [2,3], or [2] \n",
    "# Only events observed with high prob of being gamma rays:\n",
    "cut_value_gh = 0.8\n",
    "\n",
    "print(f\"Combination types: {combo_types}\")\n",
    "print(f\"Global gammaness cut: {cut_value_gh}\")\n",
    "\n",
    "# Get the photon list\n",
    "event_list = event_data_mean.query(\n",
    "    f\"(combo_type == {combo_types}) & (gammaness > {cut_value_gh})\"\n",
    ").copy()\n",
    "\n",
    "print(f\"\\nNumber of events: {len(event_list)}\")\n",
    "\n",
    "# Show the event list\n",
    "event_list.head()"
   ]
  },
  {
   "cell_type": "markdown",
   "id": "1febbc2d",
   "metadata": {},
   "source": [
    "### Producing a first simple skymap\n",
    "\n",
    "Let's quickly do a counts map to see what we have selected."
   ]
  },
  {
   "cell_type": "code",
   "execution_count": null,
   "id": "4a9c62d2",
   "metadata": {
    "scrolled": false
   },
   "outputs": [],
   "source": [
    "plt.figure()\n",
    "plt.title(f\"gammaness > {cut_value_gh}, combo_type = {combo_types}\")\n",
    "plt.xlabel(\"RA [deg]\")\n",
    "plt.ylabel(\"Dec [deg]\")\n",
    "plt.xlim(xlim)\n",
    "plt.ylim(ylim)\n",
    "\n",
    "# Plot the count map\n",
    "plt.hist2d(\n",
    "    event_list[\"reco_ra\"],\n",
    "    event_list[\"reco_dec\"],\n",
    "    bins=[np.linspace(xlim[1], xlim[0], 101), np.linspace(ylim[0], ylim[1], 101)],\n",
    ")\n",
    "\n",
    "plt.colorbar(label=\"Number of events\")\n",
    "plt.axis(xlim.tolist() + ylim.tolist())\n",
    "plt.grid()\n",
    "\n",
    "# Plot the ON coordinate\n",
    "plt.scatter(\n",
    "    on_coord.ra.to(\"deg\"),\n",
    "    on_coord.dec.to(\"deg\"),\n",
    "    marker=\"x\",\n",
    "    s=100,\n",
    "    color=\"red\",\n",
    "    label=\"ON\",\n",
    ")\n",
    "\n",
    "plt.legend()"
   ]
  },
  {
   "cell_type": "markdown",
   "id": "389de312",
   "metadata": {},
   "source": [
    "### Check the $\\theta^2$ distributions\n",
    "\n",
    "$\\theta$ is defined as the offset angle between the real position of the target and the reconstructed position for a single event, as shown in the figure below:\n",
    "\n",
    "![theta](./figures/theta.png)\n",
    "\n",
    "\n",
    "So let's start by setting up a range at which we want to look for events, let's say from 0 to 0.9$^{\\circ}$, and let's also define a cutting value at $\\theta = 0.2^{\\circ}$ (or $\\theta^2 = 0.04^{\\circ}$):"
   ]
  },
  {
   "cell_type": "code",
   "execution_count": null,
   "id": "87e132ba",
   "metadata": {},
   "outputs": [],
   "source": [
    "theta2_bins = np.linspace(0, 0.9, 81)  # unit: [deg2]\n",
    "cut_value_theta2 = 0.04  # unit: [deg2]\n",
    "\n",
    "theta2_bins_center = (theta2_bins[:-1] + theta2_bins[1:]) / 2\n",
    "\n",
    "theta2_bins_width = [\n",
    "    theta2_bins_center - theta2_bins[:-1],\n",
    "    theta2_bins[1:] - theta2_bins_center,\n",
    "]"
   ]
  },
  {
   "cell_type": "markdown",
   "id": "27b5f451",
   "metadata": {},
   "source": [
    "Now let's plot this distribution and compute the significance of the Crab signal.\n",
    "Since the distribution of photons is not Poissonian, the proper way to go is using the Li & Ma significance (https://arxiv.org/abs/astro-ph/0411660)."
   ]
  },
  {
   "cell_type": "code",
   "execution_count": null,
   "id": "7f9272b4",
   "metadata": {},
   "outputs": [],
   "source": [
    "plt.figure()\n",
    "plt.title(f\"gammaness > {cut_value_gh}, combo_type = {combo_types}\")\n",
    "plt.xlabel(\"Theta2 [deg$^2$]\")\n",
    "plt.ylabel(\"Number of events\")\n",
    "plt.grid()\n",
    "\n",
    "# Plot the theta2 distribution from the ON coordinate\n",
    "hist_on = plt.hist(\n",
    "    event_list[\"theta2_on\"], bins=theta2_bins, histtype=\"bar\", linewidth=2, alpha=0.5\n",
    ")[0]\n",
    "\n",
    "plt.errorbar(\n",
    "    x=theta2_bins_center,\n",
    "    y=hist_on,\n",
    "    xerr=theta2_bins_width,\n",
    "    yerr=np.sqrt(hist_on),\n",
    "    fmt=\"o\",\n",
    "    markersize=5,\n",
    "    label=\"ON\",\n",
    "    color=colors[0],\n",
    ")\n",
    "\n",
    "# Plot the theta2 distrubutions from the OFF coordinates\n",
    "for i_off in range(n_regions_off):\n",
    "\n",
    "    hist_off, _ = np.histogram(event_list[f\"theta2_off{i_off+1}\"], bins=theta2_bins)\n",
    "\n",
    "    plt.errorbar(\n",
    "        x=theta2_bins_center,\n",
    "        y=hist_off,\n",
    "        xerr=theta2_bins_width,\n",
    "        yerr=np.sqrt(hist_off),\n",
    "        fmt=\"o\",\n",
    "        markersize=1,\n",
    "        label=f\"OFF{i_off+1}\",\n",
    "    )\n",
    "\n",
    "# Plot the theta2 cut\n",
    "print(f\"Global theta2 cut: {cut_value_theta2} [deg2]\")\n",
    "\n",
    "plt.plot(\n",
    "    np.repeat(cut_value_theta2, 2),\n",
    "    (0, plt.ylim()[1]),\n",
    "    linestyle=\"--\",\n",
    "    color=\"black\",\n",
    "    label=f\"Theta2 cut\",\n",
    ")\n",
    "\n",
    "plt.legend(loc=\"upper right\")\n",
    "\n",
    "# Calculate the numbers ON, OFF and excess events\n",
    "n_on = len(event_list.query(f\"theta2_on < {cut_value_theta2}\"))\n",
    "print(f\"\\nNon: {n_on}\\n\")\n",
    "\n",
    "n_off_total = 0\n",
    "\n",
    "for i_off in range(n_regions_off):\n",
    "\n",
    "    n_off = len(event_list.query(f\"theta2_off{i_off+1} < {cut_value_theta2}\"))\n",
    "    print(f\"Noff{i_off+1}: {n_off}\")\n",
    "\n",
    "    n_off_total += n_off\n",
    "\n",
    "print(f\"--> Total Noff: {n_off_total}\")\n",
    "\n",
    "alpha = 1 / n_regions_off\n",
    "n_off_scaled = n_off_total * alpha\n",
    "\n",
    "print(f\"\\nalpha = {alpha:.3f}\")\n",
    "print(f\"--> Scaled Noff: {n_off_scaled:.0f}\")\n",
    "\n",
    "n_excess = n_on - n_off_scaled\n",
    "excess_rate = n_excess / obs_time.to_value(\"min\")\n",
    "\n",
    "print(f\"\\nNexcess: {n_excess:.0f}\")\n",
    "print(f\"Observation time: {obs_time.to('min'):.1f}\")\n",
    "print(f\"--> Excess rate: {excess_rate:.1f} [1/min]\")\n",
    "\n",
    "# Calculate the Li&Ma significance\n",
    "stat = WStatCountsStatistic(n_on, n_off_total, alpha=alpha)\n",
    "significance = stat.sqrt_ts\n",
    "\n",
    "print(f\"\\nLi&Ma significance: {significance:.1f} sigma\")"
   ]
  },
  {
   "cell_type": "markdown",
   "id": "41907d0f",
   "metadata": {},
   "source": [
    "We now repeat the process, but this time slicing the data in different energy bins. We see that the distribution of events gets tighter and the background drops for higher energies."
   ]
  },
  {
   "cell_type": "code",
   "execution_count": null,
   "id": "4d7b6ff1",
   "metadata": {
    "scrolled": false
   },
   "outputs": [],
   "source": [
    "# ================\n",
    "# === Settings ===\n",
    "# ================\n",
    "\n",
    "energy_bins = np.logspace(-1, 1, 11)[:-4]\n",
    "\n",
    "energy_bins_center = (energy_bins[:-1] + energy_bins[1:]) / 2\n",
    "\n",
    "energy_bins_width = [\n",
    "    energy_bins[1:] - energy_bins_center,\n",
    "    energy_bins_center - energy_bins[:-1],\n",
    "]\n",
    "# ============\n",
    "# === Main ===\n",
    "# ============\n",
    "\n",
    "n_columns = 3\n",
    "n_rows = int(np.ceil(len(energy_bins[:-1]) / n_columns))\n",
    "\n",
    "grid = (n_rows, n_columns)\n",
    "locs = list(itertools.product(range(n_rows), range(n_columns)))\n",
    "\n",
    "plt.figure(figsize=(20, n_rows * 8))\n",
    "\n",
    "# Loop over every energy bin\n",
    "for i_bin, (eng_lo, eng_hi) in enumerate(zip(energy_bins[:-1], energy_bins[1:])):\n",
    "\n",
    "    plt.subplot2grid(grid, locs[i_bin])\n",
    "    plt.title(f\"{eng_lo:.3f} < energy < {eng_hi:.3f} [TeV]\")\n",
    "    plt.xlabel(\"Theta2 [deg$^2$]\")\n",
    "    plt.ylabel(\"Number of events\")\n",
    "    plt.grid()\n",
    "\n",
    "    # Apply the energy cut\n",
    "    df_events = event_list.query(\n",
    "        f\"(reco_energy > {eng_lo}) & (reco_energy < {eng_hi})\"\n",
    "    ).copy()\n",
    "\n",
    "    if len(df_events) > 0:\n",
    "\n",
    "        # Plot the theta2 distribution from the ON coordinate\n",
    "        hist_on = plt.hist(\n",
    "            df_events[\"theta2_on\"],\n",
    "            bins=theta2_bins,\n",
    "            histtype=\"bar\",\n",
    "            linewidth=2,\n",
    "            alpha=0.5,\n",
    "        )[0]\n",
    "\n",
    "        plt.errorbar(\n",
    "            x=theta2_bins_center,\n",
    "            y=hist_on,\n",
    "            xerr=theta2_bins_width,\n",
    "            yerr=np.sqrt(hist_on),\n",
    "            fmt=\"o\",\n",
    "            markersize=5,\n",
    "            label=\"ON\",\n",
    "            color=colors[0],\n",
    "        )\n",
    "\n",
    "        # Plot the theta2 distribution from the OFF1 coordinate\n",
    "        hist_off, _ = np.histogram(df_events[\"theta2_off1\"], bins=theta2_bins)\n",
    "\n",
    "        plt.errorbar(\n",
    "            x=theta2_bins_center,\n",
    "            y=hist_off,\n",
    "            xerr=theta2_bins_width,\n",
    "            yerr=np.sqrt(hist_off),\n",
    "            fmt=\"o\",\n",
    "            markersize=1,\n",
    "            label=f\"OFF1\",\n",
    "        )\n",
    "\n",
    "        plt.legend(loc=\"upper right\")"
   ]
  },
  {
   "cell_type": "markdown",
   "id": "fbbfb26d",
   "metadata": {},
   "source": [
    "### Angular resolution\n",
    "\n",
    "Finally, let's check the dependency of the angular resolution with the energy of the incoming photons."
   ]
  },
  {
   "cell_type": "code",
   "execution_count": null,
   "id": "ea9383ea",
   "metadata": {},
   "outputs": [],
   "source": [
    "#get event theta value\n",
    "theta2vec= event_list[\"theta2_on\"]\n",
    "thetavec=u.Quantity(np.sqrt(theta2vec), u.deg)\n",
    "#add theta value to dataframe and get a QTable from it\n",
    "event_list['theta']=thetavec\n",
    "event_list_table=QTable.from_pandas(event_list)\n",
    "event_list_table[:5]\n",
    "#Apply global theta cut to events\n",
    "mask=event_list_table['theta'].value<np.repeat(np.sqrt(0.04),(len(event_list_table)))\n",
    "event_list_table=event_list_table[mask]\n",
    "event_list_table['reco_energy']=u.Quantity(event_list_table['reco_energy'],u.TeV)\n",
    "#angular resolution\n",
    "angres_table_Crab = angular_resolution(event_list_table, u.Quantity(energy_bins,u.TeV), energy_type=\"reco\"\n",
    ")\n",
    "\n",
    "angres_Crab = angres_table_Crab[\"angular_resolution\"].value\n",
    "print(f\"Angular resolution:\\n{angres_Crab} deg\")\n",
    "print(f\"Energy bin center:\\n{energy_bins_center} TeV\")"
   ]
  },
  {
   "cell_type": "code",
   "execution_count": null,
   "id": "53fd2d4e",
   "metadata": {},
   "outputs": [],
   "source": [
    "plt.figure()\n",
    "\n",
    "plt.title(f\"Crab data angular resolution\")\n",
    "plt.ylabel(\"Angular resolution (68% cont.) [deg]\")\n",
    "plt.xlabel(\"Energy [TeV]\")\n",
    "plt.semilogx()\n",
    "plt.grid()\n",
    "\n",
    "\n",
    "plt.errorbar(\n",
    "    x=energy_bins_center,\n",
    "    y=angres_Crab,\n",
    "    xerr=energy_bins_width,\n",
    "    label=\"Crab\",\n",
    "    marker=\"o\",\n",
    ")\n"
   ]
  },
  {
   "cell_type": "code",
   "execution_count": null,
   "id": "750b2705",
   "metadata": {},
   "outputs": [],
   "source": []
  }
 ],
 "metadata": {
  "kernelspec": {
   "display_name": "Python 3 (ipykernel)",
   "language": "python",
   "name": "python3"
  },
  "language_info": {
   "codemirror_mode": {
    "name": "ipython",
    "version": 3
   },
   "file_extension": ".py",
   "mimetype": "text/x-python",
   "name": "python",
   "nbconvert_exporter": "python",
   "pygments_lexer": "ipython3",
   "version": "3.8.13"
  }
 },
 "nbformat": 4,
 "nbformat_minor": 5
}
